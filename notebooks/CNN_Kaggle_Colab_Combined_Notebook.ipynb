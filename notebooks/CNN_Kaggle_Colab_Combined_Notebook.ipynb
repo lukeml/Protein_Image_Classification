{
 "cells": [
  {
   "cell_type": "code",
   "execution_count": 1,
   "metadata": {
    "colab": {
     "base_uri": "https://localhost:8080/",
     "height": 88
    },
    "colab_type": "code",
    "executionInfo": {
     "elapsed": 3143,
     "status": "ok",
     "timestamp": 1592248690639,
     "user": {
      "displayName": "Luke L",
      "photoUrl": "https://lh3.googleusercontent.com/a-/AOh14Gh2V6CcD-mvJZNcg0pcJrVX81wkXA0GyIYCyXlCCQ=s64",
      "userId": "10662023132727432683"
     },
     "user_tz": 420
    },
    "id": "UbJWy0D2UYHE",
    "outputId": "7b29a3d0-996f-432c-ebef-5ab291aa8067"
   },
   "outputs": [
    {
     "name": "stderr",
     "output_type": "stream",
     "text": [
      "Using TensorFlow backend.\n",
      "/usr/local/lib/python3.6/dist-packages/statsmodels/tools/_testing.py:19: FutureWarning: pandas.util.testing is deprecated. Use the functions in the public API at pandas.testing instead.\n",
      "  import pandas.util.testing as tm\n"
     ]
    }
   ],
   "source": [
    "import numpy as np\n",
    "import pandas as pd\n",
    "import os\n",
    "\n",
    "from sklearn import datasets\n",
    "from sklearn.decomposition import PCA\n",
    "from sklearn.model_selection import train_test_split\n",
    "\n",
    "from sklearn.ensemble import RandomForestClassifier\n",
    "from sklearn.metrics import recall_score, accuracy_score, plot_confusion_matrix, confusion_matrix\n",
    "from sklearn.metrics import roc_auc_score, roc_curve, f1_score, precision_score\n",
    "\n",
    "from sklearn.datasets import fetch_openml\n",
    "from keras.utils import np_utils\n",
    "\n",
    "import keras\n",
    "from keras.models import Sequential, load_model\n",
    "from keras.layers import Dense, Conv2D, MaxPooling2D, Flatten, GlobalAveragePooling2D, InputLayer, Dropout\n",
    "from keras.applications import mobilenet_v2, VGG16\n",
    "from keras.preprocessing import image\n",
    "from keras.preprocessing.image import img_to_array, load_img, ImageDataGenerator\n",
    "from keras.models import Model\n",
    "\n",
    "from matplotlib import pyplot as plt\n",
    "from matplotlib.image import imread\n",
    "import seaborn as sns\n",
    "%matplotlib inline\n",
    "plt.style.use('default')\n",
    "\n",
    "from itertools import cycle\n",
    "\n",
    "import pickle"
   ]
  },
  {
   "cell_type": "code",
   "execution_count": 2,
   "metadata": {
    "colab": {
     "base_uri": "https://localhost:8080/",
     "height": 122
    },
    "colab_type": "code",
    "executionInfo": {
     "elapsed": 33542,
     "status": "ok",
     "timestamp": 1592248725100,
     "user": {
      "displayName": "Luke L",
      "photoUrl": "https://lh3.googleusercontent.com/a-/AOh14Gh2V6CcD-mvJZNcg0pcJrVX81wkXA0GyIYCyXlCCQ=s64",
      "userId": "10662023132727432683"
     },
     "user_tz": 420
    },
    "id": "5O5UoQXFUYHy",
    "outputId": "b6cc08fe-510d-4e29-b35a-a16ca0ce4bdb"
   },
   "outputs": [
    {
     "name": "stdout",
     "output_type": "stream",
     "text": [
      "Go to this URL in a browser: https://accounts.google.com/o/oauth2/auth?client_id=947318989803-6bn6qk8qdgf4n4g3pfee6491hc0brc4i.apps.googleusercontent.com&redirect_uri=urn%3aietf%3awg%3aoauth%3a2.0%3aoob&response_type=code&scope=email%20https%3a%2f%2fwww.googleapis.com%2fauth%2fdocs.test%20https%3a%2f%2fwww.googleapis.com%2fauth%2fdrive%20https%3a%2f%2fwww.googleapis.com%2fauth%2fdrive.photos.readonly%20https%3a%2f%2fwww.googleapis.com%2fauth%2fpeopleapi.readonly\n",
      "\n",
      "Enter your authorization code:\n",
      "··········\n",
      "Mounted at /content/drive\n"
     ]
    }
   ],
   "source": [
    "from google.colab import drive\n",
    "drive.mount('/content/drive', force_remount=True)"
   ]
  },
  {
   "cell_type": "code",
   "execution_count": 3,
   "metadata": {
    "colab": {
     "base_uri": "https://localhost:8080/",
     "height": 34
    },
    "colab_type": "code",
    "executionInfo": {
     "elapsed": 8645,
     "status": "ok",
     "timestamp": 1592248725101,
     "user": {
      "displayName": "Luke L",
      "photoUrl": "https://lh3.googleusercontent.com/a-/AOh14Gh2V6CcD-mvJZNcg0pcJrVX81wkXA0GyIYCyXlCCQ=s64",
      "userId": "10662023132727432683"
     },
     "user_tz": 420
    },
    "id": "nzoPhWAUVGJy",
    "outputId": "e224ab3a-7738-4406-9cc1-d092d0410a82"
   },
   "outputs": [
    {
     "name": "stdout",
     "output_type": "stream",
     "text": [
      "/content/drive/My Drive/Colab Notebooks\n"
     ]
    }
   ],
   "source": [
    "%cd /content/drive/My\\ Drive/Colab\\ Notebooks"
   ]
  },
  {
   "cell_type": "code",
   "execution_count": 4,
   "metadata": {
    "colab": {
     "base_uri": "https://localhost:8080/",
     "height": 391
    },
    "colab_type": "code",
    "executionInfo": {
     "elapsed": 10599,
     "status": "ok",
     "timestamp": 1592248727434,
     "user": {
      "displayName": "Luke L",
      "photoUrl": "https://lh3.googleusercontent.com/a-/AOh14Gh2V6CcD-mvJZNcg0pcJrVX81wkXA0GyIYCyXlCCQ=s64",
      "userId": "10662023132727432683"
     },
     "user_tz": 420
    },
    "id": "aez4G1olVIih",
    "outputId": "ca7c7ebd-4479-46e9-8a74-7748f189814a"
   },
   "outputs": [
    {
     "name": "stdout",
     "output_type": "stream",
     "text": [
      " ar_21_predictions_14Jun.npz                   Kaggle_CNN_14Jun_1430.ipynb\n",
      " ar_25_predictions_14Jun.npz                   my_pca\n",
      " ar_25_wrong_14Jun.npz                         my_pca_11Jun\n",
      " ar_4_predictions_14Jun.npz                    my_rfc_11Jun\n",
      " ar_4_w_7_predictions_14Jun.npz                my_X_test_pca.npz\n",
      " ar_4_wrong_14Jun.npz                          my_X_train_pca.npz\n",
      " ar_7_predictions_14Jun.npz                    new_file_list_green\n",
      " ar_7_w_4_predictions_14Jun.npz                new_file_list_green_test\n",
      " \u001b[0m\u001b[01;34marrays\u001b[0m/                                       new_file_list_green_train\n",
      " CNN_8Jun_1430.ipynb                           \u001b[01;34mtest_resize_sk\u001b[0m/\n",
      " CNN_9Jun_0955.ipynb                           train.csv\n",
      "'CNN_df_4_df_25_model_test_4 - Copy.h5'        \u001b[01;34mtrain_resize_sk\u001b[0m/\n",
      " CNN_df_4_df_25_model_test_4.h5                X_test_11Jun.npz\n",
      " CNN_df_4_df_25_model_test_5.h5                X_test_pca_11Jun.npz\n",
      "'Copy of pca_random_forest_10Jun_1205.ipynb'   X_test_pca_rf.npz\n",
      "'Copy of Taking advantage of Colab Pro'        X_train_11Jun.npz\n",
      " df_25_wrong.csv                               X_train_pca_11Jun.npz\n",
      " df_4_wrong.csv                                X_train_pca_rf.npz\n",
      " file_list_green                               y_test_pca_rf_11Jun.npz\n",
      " file_list_green_test                          y_test_pca_rf.npz\n",
      " file_list_green_train                         y_train_pca_rf_11Jun.npz\n",
      " Kaggle_CNN_11Jun_0800.ipynb                   y_train_pca_rf.npz\n"
     ]
    }
   ],
   "source": [
    "%ls"
   ]
  },
  {
   "cell_type": "code",
   "execution_count": 0,
   "metadata": {
    "colab": {},
    "colab_type": "code",
    "id": "XS_febS-UYH0"
   },
   "outputs": [],
   "source": [
    "df_train = pd.read_csv('train.csv')"
   ]
  },
  {
   "cell_type": "code",
   "execution_count": 7,
   "metadata": {
    "colab": {
     "base_uri": "https://localhost:8080/",
     "height": 204
    },
    "colab_type": "code",
    "executionInfo": {
     "elapsed": 2389,
     "status": "ok",
     "timestamp": 1592248734544,
     "user": {
      "displayName": "Luke L",
      "photoUrl": "https://lh3.googleusercontent.com/a-/AOh14Gh2V6CcD-mvJZNcg0pcJrVX81wkXA0GyIYCyXlCCQ=s64",
      "userId": "10662023132727432683"
     },
     "user_tz": 420
    },
    "id": "EJTohEXpUYH2",
    "outputId": "7aee0233-a34d-4a04-d570-5553b7039d00"
   },
   "outputs": [
    {
     "data": {
      "text/html": [
       "<div>\n",
       "<style scoped>\n",
       "    .dataframe tbody tr th:only-of-type {\n",
       "        vertical-align: middle;\n",
       "    }\n",
       "\n",
       "    .dataframe tbody tr th {\n",
       "        vertical-align: top;\n",
       "    }\n",
       "\n",
       "    .dataframe thead th {\n",
       "        text-align: right;\n",
       "    }\n",
       "</style>\n",
       "<table border=\"1\" class=\"dataframe\">\n",
       "  <thead>\n",
       "    <tr style=\"text-align: right;\">\n",
       "      <th></th>\n",
       "      <th>Id</th>\n",
       "      <th>Target</th>\n",
       "    </tr>\n",
       "  </thead>\n",
       "  <tbody>\n",
       "    <tr>\n",
       "      <th>0</th>\n",
       "      <td>00070df0-bbc3-11e8-b2bc-ac1f6b6435d0</td>\n",
       "      <td>16 0</td>\n",
       "    </tr>\n",
       "    <tr>\n",
       "      <th>1</th>\n",
       "      <td>000a6c98-bb9b-11e8-b2b9-ac1f6b6435d0</td>\n",
       "      <td>7 1 2 0</td>\n",
       "    </tr>\n",
       "    <tr>\n",
       "      <th>2</th>\n",
       "      <td>000a9596-bbc4-11e8-b2bc-ac1f6b6435d0</td>\n",
       "      <td>5</td>\n",
       "    </tr>\n",
       "    <tr>\n",
       "      <th>3</th>\n",
       "      <td>000c99ba-bba4-11e8-b2b9-ac1f6b6435d0</td>\n",
       "      <td>1</td>\n",
       "    </tr>\n",
       "    <tr>\n",
       "      <th>4</th>\n",
       "      <td>001838f8-bbca-11e8-b2bc-ac1f6b6435d0</td>\n",
       "      <td>18</td>\n",
       "    </tr>\n",
       "  </tbody>\n",
       "</table>\n",
       "</div>"
      ],
      "text/plain": [
       "                                     Id   Target\n",
       "0  00070df0-bbc3-11e8-b2bc-ac1f6b6435d0     16 0\n",
       "1  000a6c98-bb9b-11e8-b2b9-ac1f6b6435d0  7 1 2 0\n",
       "2  000a9596-bbc4-11e8-b2bc-ac1f6b6435d0        5\n",
       "3  000c99ba-bba4-11e8-b2b9-ac1f6b6435d0        1\n",
       "4  001838f8-bbca-11e8-b2bc-ac1f6b6435d0       18"
      ]
     },
     "execution_count": 7,
     "metadata": {
      "tags": []
     },
     "output_type": "execute_result"
    }
   ],
   "source": [
    "df_train.head()"
   ]
  },
  {
   "cell_type": "code",
   "execution_count": 8,
   "metadata": {
    "colab": {
     "base_uri": "https://localhost:8080/",
     "height": 34
    },
    "colab_type": "code",
    "executionInfo": {
     "elapsed": 2215,
     "status": "ok",
     "timestamp": 1592248734546,
     "user": {
      "displayName": "Luke L",
      "photoUrl": "https://lh3.googleusercontent.com/a-/AOh14Gh2V6CcD-mvJZNcg0pcJrVX81wkXA0GyIYCyXlCCQ=s64",
      "userId": "10662023132727432683"
     },
     "user_tz": 420
    },
    "id": "QGXv7B5dUYIB",
    "outputId": "a2f40fc7-fae1-40f2-ab19-ade7b1c17958"
   },
   "outputs": [
    {
     "data": {
      "text/plain": [
       "31072"
      ]
     },
     "execution_count": 8,
     "metadata": {
      "tags": []
     },
     "output_type": "execute_result"
    }
   ],
   "source": [
    "len(df_train['Target'])"
   ]
  },
  {
   "cell_type": "code",
   "execution_count": 9,
   "metadata": {
    "colab": {
     "base_uri": "https://localhost:8080/",
     "height": 493
    },
    "colab_type": "code",
    "executionInfo": {
     "elapsed": 1769,
     "status": "ok",
     "timestamp": 1592248734546,
     "user": {
      "displayName": "Luke L",
      "photoUrl": "https://lh3.googleusercontent.com/a-/AOh14Gh2V6CcD-mvJZNcg0pcJrVX81wkXA0GyIYCyXlCCQ=s64",
      "userId": "10662023132727432683"
     },
     "user_tz": 420
    },
    "id": "BqsUzICFC_bD",
    "outputId": "e8b7a961-e460-4a6f-ed25-45554a217828"
   },
   "outputs": [
    {
     "name": "stdout",
     "output_type": "stream",
     "text": [
      "0 2414\n",
      "1 271\n",
      "2 808\n",
      "3 654\n",
      "4 1077\n",
      "5 983\n",
      "6 622\n",
      "7 1163\n",
      "8 31\n",
      "9 17\n",
      "10 0\n",
      "11 601\n",
      "12 232\n",
      "13 157\n",
      "14 484\n",
      "15 0\n",
      "16 27\n",
      "17 0\n",
      "18 314\n",
      "19 522\n",
      "20 98\n",
      "21 1058\n",
      "22 213\n",
      "23 1653\n",
      "24 122\n",
      "25 1470\n",
      "26 134\n",
      "27 1\n"
     ]
    }
   ],
   "source": [
    "for i in range(28):\n",
    "    print(i, len(df_train[df_train['Target']==f'{i}']))"
   ]
  },
  {
   "cell_type": "code",
   "execution_count": 0,
   "metadata": {
    "colab": {},
    "colab_type": "code",
    "id": "aln4uFoHUYIC"
   },
   "outputs": [],
   "source": [
    "df_0 = df_train[df_train['Target']=='0']\n",
    "\n",
    "df_4 = df_train[df_train['Target']=='4']\n",
    "\n",
    "df_5 = df_train[df_train['Target']=='5']\n",
    "\n",
    "df_7 = df_train[df_train['Target']=='7']\n",
    "\n",
    "df_21 = df_train[df_train['Target']=='21']\n",
    "\n",
    "df_23 = df_train[df_train['Target']=='23']\n",
    "\n",
    "df_25 = df_train[df_train['Target']=='25']\n",
    "\n",
    "list_df = [df_0, df_4, df_5, df_7, df_21, df_23, df_25]\n",
    "\n",
    "list_name_df = ['df_0', 'df_4', 'df_5', 'df_7', 'df_21', 'df_23', 'df_25']"
   ]
  },
  {
   "cell_type": "code",
   "execution_count": 0,
   "metadata": {
    "colab": {},
    "colab_type": "code",
    "id": "8bEqGY4vUYIJ"
   },
   "outputs": [],
   "source": []
  },
  {
   "cell_type": "code",
   "execution_count": 0,
   "metadata": {
    "colab": {},
    "colab_type": "code",
    "id": "4VsciczaeiEA"
   },
   "outputs": [],
   "source": [
    "ar_4_dict = np.load('arrays/ar_4.npz')"
   ]
  },
  {
   "cell_type": "code",
   "execution_count": 0,
   "metadata": {
    "colab": {},
    "colab_type": "code",
    "id": "hpaRpJWCgU-u"
   },
   "outputs": [],
   "source": [
    "ar_4 = ar_4_dict['arr_0']"
   ]
  },
  {
   "cell_type": "code",
   "execution_count": 13,
   "metadata": {
    "colab": {
     "base_uri": "https://localhost:8080/",
     "height": 34
    },
    "colab_type": "code",
    "executionInfo": {
     "elapsed": 5377,
     "status": "ok",
     "timestamp": 1592248744012,
     "user": {
      "displayName": "Luke L",
      "photoUrl": "https://lh3.googleusercontent.com/a-/AOh14Gh2V6CcD-mvJZNcg0pcJrVX81wkXA0GyIYCyXlCCQ=s64",
      "userId": "10662023132727432683"
     },
     "user_tz": 420
    },
    "id": "SY8p6eyUgVLr",
    "outputId": "1b9b1032-8edb-48d4-81c5-f220912823f0"
   },
   "outputs": [
    {
     "data": {
      "text/plain": [
       "(1077, 224, 224, 3)"
      ]
     },
     "execution_count": 13,
     "metadata": {
      "tags": []
     },
     "output_type": "execute_result"
    }
   ],
   "source": [
    "ar_4.shape"
   ]
  },
  {
   "cell_type": "code",
   "execution_count": 0,
   "metadata": {
    "colab": {},
    "colab_type": "code",
    "id": "TR5fMB88gVTq"
   },
   "outputs": [],
   "source": [
    "ar_25_dict = np.load('arrays/ar_25.npz')"
   ]
  },
  {
   "cell_type": "code",
   "execution_count": 0,
   "metadata": {
    "colab": {},
    "colab_type": "code",
    "id": "NB3phZEsgVZc"
   },
   "outputs": [],
   "source": [
    "ar_25 = ar_25_dict['arr_0']"
   ]
  },
  {
   "cell_type": "code",
   "execution_count": 16,
   "metadata": {
    "colab": {
     "base_uri": "https://localhost:8080/",
     "height": 34
    },
    "colab_type": "code",
    "executionInfo": {
     "elapsed": 7058,
     "status": "ok",
     "timestamp": 1592248746180,
     "user": {
      "displayName": "Luke L",
      "photoUrl": "https://lh3.googleusercontent.com/a-/AOh14Gh2V6CcD-mvJZNcg0pcJrVX81wkXA0GyIYCyXlCCQ=s64",
      "userId": "10662023132727432683"
     },
     "user_tz": 420
    },
    "id": "3xa3JsdugVdb",
    "outputId": "66d9b9f4-8e2c-45fb-e60a-2fd3ed2ed1f6"
   },
   "outputs": [
    {
     "data": {
      "text/plain": [
       "(1470, 224, 224, 3)"
      ]
     },
     "execution_count": 16,
     "metadata": {
      "tags": []
     },
     "output_type": "execute_result"
    }
   ],
   "source": [
    "ar_25.shape"
   ]
  },
  {
   "cell_type": "code",
   "execution_count": 0,
   "metadata": {
    "colab": {},
    "colab_type": "code",
    "id": "ntnWrs30gVh0"
   },
   "outputs": [],
   "source": []
  },
  {
   "cell_type": "code",
   "execution_count": 0,
   "metadata": {
    "colab": {},
    "colab_type": "code",
    "id": "1PiQVm3KUYIY"
   },
   "outputs": [],
   "source": [
    "### Modification of get_X_y_train_test from PCA/RF \n",
    "\n",
    "def get_X_y_train_test_2(ar_a, ar_b):\n",
    "    '''\n",
    "    This function takes in two numpy arrays representing images.\n",
    "    It returns four numpy arrays using train_test_split suitable for doing PCA and random forest.\n",
    "    \n",
    "    Input: two pandas dataframes\n",
    "    Output: four train_test_split numpy arrays    \n",
    "    \n",
    "    '''\n",
    "    \n",
    "    y_a = np.zeros(len(ar_a))\n",
    "\n",
    "    y_b = np.ones(len(ar_b))\n",
    "    \n",
    "    \n",
    "    X = np.concatenate([ar_a, ar_b])\n",
    "    \n",
    "    y = np.concatenate([y_a, y_b])\n",
    "    \n",
    "    X_train, X_test, y_train, y_test = train_test_split(X, y, test_size=0.25, random_state = 42)\n",
    "    \n",
    "    return X_train, X_test, y_train, y_test"
   ]
  },
  {
   "cell_type": "code",
   "execution_count": 0,
   "metadata": {
    "colab": {},
    "colab_type": "code",
    "id": "IGid1t4vUYIa"
   },
   "outputs": [],
   "source": [
    "X_train, X_test, y_train, y_test = get_X_y_train_test_2(ar_4, ar_25)"
   ]
  },
  {
   "cell_type": "code",
   "execution_count": 34,
   "metadata": {
    "colab": {
     "base_uri": "https://localhost:8080/",
     "height": 34
    },
    "colab_type": "code",
    "executionInfo": {
     "elapsed": 1335,
     "status": "ok",
     "timestamp": 1592249544058,
     "user": {
      "displayName": "Luke L",
      "photoUrl": "https://lh3.googleusercontent.com/a-/AOh14Gh2V6CcD-mvJZNcg0pcJrVX81wkXA0GyIYCyXlCCQ=s64",
      "userId": "10662023132727432683"
     },
     "user_tz": 420
    },
    "id": "v28YWhxKUYIb",
    "outputId": "24d6e088-6eb7-4073-bd93-d131e91617f4"
   },
   "outputs": [
    {
     "data": {
      "text/plain": [
       "(1910, 224, 224, 3)"
      ]
     },
     "execution_count": 34,
     "metadata": {
      "tags": []
     },
     "output_type": "execute_result"
    }
   ],
   "source": [
    "X_train.shape"
   ]
  },
  {
   "cell_type": "code",
   "execution_count": 35,
   "metadata": {
    "colab": {
     "base_uri": "https://localhost:8080/",
     "height": 34
    },
    "colab_type": "code",
    "executionInfo": {
     "elapsed": 1022,
     "status": "ok",
     "timestamp": 1592249544060,
     "user": {
      "displayName": "Luke L",
      "photoUrl": "https://lh3.googleusercontent.com/a-/AOh14Gh2V6CcD-mvJZNcg0pcJrVX81wkXA0GyIYCyXlCCQ=s64",
      "userId": "10662023132727432683"
     },
     "user_tz": 420
    },
    "id": "y2Ch42T7UYIe",
    "outputId": "76efe97e-8d3f-4a91-e647-a1b50e7a4954"
   },
   "outputs": [
    {
     "data": {
      "text/plain": [
       "(1910,)"
      ]
     },
     "execution_count": 35,
     "metadata": {
      "tags": []
     },
     "output_type": "execute_result"
    }
   ],
   "source": [
    "y_train.shape"
   ]
  },
  {
   "cell_type": "code",
   "execution_count": 36,
   "metadata": {
    "colab": {
     "base_uri": "https://localhost:8080/",
     "height": 34
    },
    "colab_type": "code",
    "executionInfo": {
     "elapsed": 722,
     "status": "ok",
     "timestamp": 1592249544061,
     "user": {
      "displayName": "Luke L",
      "photoUrl": "https://lh3.googleusercontent.com/a-/AOh14Gh2V6CcD-mvJZNcg0pcJrVX81wkXA0GyIYCyXlCCQ=s64",
      "userId": "10662023132727432683"
     },
     "user_tz": 420
    },
    "id": "TmamW52dUYIg",
    "outputId": "9aa2589e-1a3c-401d-ba86-5d031f9920be"
   },
   "outputs": [
    {
     "data": {
      "text/plain": [
       "array([1., 1., 1., ..., 1., 1., 0.])"
      ]
     },
     "execution_count": 36,
     "metadata": {
      "tags": []
     },
     "output_type": "execute_result"
    }
   ],
   "source": [
    "y_train"
   ]
  },
  {
   "cell_type": "code",
   "execution_count": 0,
   "metadata": {
    "colab": {},
    "colab_type": "code",
    "id": "bRcqL1v6UYIh"
   },
   "outputs": [],
   "source": [
    "unique, counts = np.unique(y_train, return_counts=True)"
   ]
  },
  {
   "cell_type": "code",
   "execution_count": 38,
   "metadata": {
    "colab": {
     "base_uri": "https://localhost:8080/",
     "height": 51
    },
    "colab_type": "code",
    "executionInfo": {
     "elapsed": 1082,
     "status": "ok",
     "timestamp": 1592249547419,
     "user": {
      "displayName": "Luke L",
      "photoUrl": "https://lh3.googleusercontent.com/a-/AOh14Gh2V6CcD-mvJZNcg0pcJrVX81wkXA0GyIYCyXlCCQ=s64",
      "userId": "10662023132727432683"
     },
     "user_tz": 420
    },
    "id": "ZYADY_TPUYIk",
    "outputId": "e0cf00ed-8162-49e6-cb8c-2513f09f098e"
   },
   "outputs": [
    {
     "name": "stdout",
     "output_type": "stream",
     "text": [
      "[[0.0e+00 8.1e+02]\n",
      " [1.0e+00 1.1e+03]]\n"
     ]
    }
   ],
   "source": [
    "print(np.asarray((unique, counts)).T)"
   ]
  },
  {
   "cell_type": "markdown",
   "metadata": {
    "colab": {},
    "colab_type": "code",
    "id": "KqK_ARw1UYIl"
   },
   "source": [
    "#### Final iterations of functions used for CNN modeling/metrics"
   ]
  },
  {
   "cell_type": "code",
   "execution_count": 0,
   "metadata": {
    "colab": {},
    "colab_type": "code",
    "id": "_XMcISkkSNpG"
   },
   "outputs": [],
   "source": [
    "def run_CNN_5(X_train, X_test, y_train, y_test, epochs=32, batch_size = 32):\n",
    "    '''\n",
    "    This function takes output from get_X_y_train_test_2 and runs a neural net model.\n",
    "    It outputs metrics using the run_metrics_2.\n",
    "    It returns the neural net model.\n",
    "    \n",
    "    Input: Four numpy arrays of the form from the output of the get_X_y_train_test_2 function\n",
    "    Output: Displays output of run_metrics_2 function and returns the trained neural net model\n",
    "    \n",
    "    '''\n",
    "    \n",
    "    NN = Sequential()\n",
    "\n",
    "    NN.add(InputLayer(input_shape=X_train.shape[1:])) # 28x28x1\n",
    "\n",
    "    # Conv block 1.  You can add more conv steps to\n",
    "    # each block to increase model capacity.\n",
    "    NN.add(Conv2D(filters=32, kernel_size=3, activation='relu', kernel_initializer='he_uniform', padding='same')) # kernel_size is a 3x3\n",
    "\n",
    "    # NN.add(Conv2D(filters=16, kernel_size=3, activation='relu', padding='same'))\n",
    "    NN.add(MaxPooling2D())\n",
    "\n",
    "    # Conv block 2 - note we increase filter dimension as we move\n",
    "    # further into the network. You can add more conv steps to\n",
    "    # each block to increase model capacity.\n",
    "    NN.add(Conv2D(filters=64, kernel_size=3, activation='relu', kernel_initializer='he_uniform', padding='same'))\n",
    "    # NN.add(Conv2D(filters=16, kernel_size=3, activation='relu', padding='same'))\n",
    "    NN.add(MaxPooling2D())\n",
    "\n",
    "    # Conv block 3 - The conv blocks should be ended with either a flatten\n",
    "    # layer or a global pooling layer. These transform the 2D layers to 1D\n",
    "    # to match the following dense layers.\n",
    "    NN.add(Conv2D(filters=128, kernel_size=3, activation='relu', kernel_initializer='he_uniform', padding='same'))\n",
    "\n",
    "    NN.add(GlobalAveragePooling2D())\n",
    "\n",
    "    # Fully connected block - flattening followed by dense and output layers\n",
    "    # NN.add(Flatten())\n",
    "    NN.add(Dense(128, activation='relu', kernel_initializer='he_uniform'))\n",
    "    NN.add(Dropout(0.2))\n",
    "    NN.add(Dense(1, activation='sigmoid'))  # only 1 binary\n",
    "\n",
    "    NN.compile(\n",
    "        loss='binary_crossentropy',\n",
    "        optimizer='adam',\n",
    "        metrics=['accuracy'],\n",
    "    )\n",
    "    NN.summary()\n",
    "    NN.fit(X_train, y_train, epochs=epochs, verbose=1, validation_split=0.25, batch_size=batch_size,\n",
    "       callbacks=[\n",
    "            keras.callbacks.EarlyStopping(patience=8, verbose=1, restore_best_weights=True, monitor='val_loss'),\n",
    "            keras.callbacks.ReduceLROnPlateau(factor=.5, patience=3, verbose=1), \n",
    "       ])  \n",
    "    \n",
    "    run_metrics_2(NN, X_train, X_test, y_train, y_test)\n",
    "    \n",
    "    return NN"
   ]
  },
  {
   "cell_type": "code",
   "execution_count": 0,
   "metadata": {
    "colab": {},
    "colab_type": "code",
    "id": "EPivECpCSNWY"
   },
   "outputs": [],
   "source": [
    "def run_metrics_2(model, X_train, X_test, y_train, y_test, xtick = 'Nuclear Speckles', ytick = 'Cytosol'):\n",
    "    \n",
    "    '''\n",
    "    This function takes as input a neural net model, test and train arrays from the output of \n",
    "    get_X_y_train_test_2, and optionally x and y labels for a confusion matrix. \n",
    "    It outputs metrics for the train and test data as well as confusion matrices. \n",
    "    \n",
    "    Input: neural net model, Four numpy arrays of the form from the output of the get_X_y_train_test_2 function, \n",
    "        x and y labels for the confusion matrices\n",
    "    Output: metrics and confusion matrices. Nothing is returned. \n",
    "    \n",
    "    '''\n",
    "    \n",
    "    y_train_pred = model.predict_classes(X_train)\n",
    "    print('\\nMetrics on train')\n",
    "    print('Accuracy Score: ', accuracy_score(y_train, y_train_pred ))\n",
    "    print('Precision Score: ', precision_score(y_train, y_train_pred ))\n",
    "    print('Recall Score: ', recall_score(y_train, y_train_pred ))\n",
    "    print('F1 Score: ', f1_score(y_train, y_train_pred ))\n",
    "    \n",
    "    train_confusion = confusion_matrix(y_train, y_train_pred)\n",
    "    plt.figure(dpi=150)\n",
    "    sns.heatmap(train_confusion, cmap=plt.cm.Blues, annot=True, square=True, fmt='g',\n",
    "               xticklabels=[xtick, ytick],\n",
    "               yticklabels=[xtick, ytick])\n",
    "\n",
    "    plt.xlabel('Predicted')\n",
    "    plt.ylabel('Actual')\n",
    "    plt.title('CNN Train confusion matrix');\n",
    "    \n",
    "    \n",
    "    y_pred = model.predict_classes(X_test)\n",
    "    print('\\nMetrics on test')\n",
    "    print('Accuracy Score: ', accuracy_score(y_test, y_pred ))\n",
    "    print('Precision Score: ', precision_score(y_test, y_pred ))\n",
    "    print('Recall Score: ', recall_score(y_test, y_pred ))\n",
    "    print('F1 Score: ', f1_score(y_test, y_pred ))\n",
    "    \n",
    "    test_confusion = confusion_matrix(y_test, y_pred)\n",
    "    plt.figure(dpi=150)\n",
    "    sns.heatmap(test_confusion, cmap=plt.cm.Blues, annot=True, square=True, fmt='g',\n",
    "               xticklabels=[xtick, ytick],\n",
    "               yticklabels=[xtick, ytick])\n",
    "\n",
    "    plt.xlabel('Predicted')\n",
    "    plt.ylabel('Actual')\n",
    "    plt.title('CNN Test confusion matrix');\n",
    "    "
   ]
  },
  {
   "cell_type": "code",
   "execution_count": 0,
   "metadata": {
    "colab": {},
    "colab_type": "code",
    "id": "LGzhqzSoSNfm"
   },
   "outputs": [],
   "source": []
  },
  {
   "cell_type": "code",
   "execution_count": 0,
   "metadata": {
    "colab": {
     "base_uri": "https://localhost:8080/",
     "height": 1000
    },
    "colab_type": "code",
    "executionInfo": {
     "elapsed": 146975,
     "status": "ok",
     "timestamp": 1592168036341,
     "user": {
      "displayName": "Luke L",
      "photoUrl": "https://lh3.googleusercontent.com/a-/AOh14Gh2V6CcD-mvJZNcg0pcJrVX81wkXA0GyIYCyXlCCQ=s64",
      "userId": "10662023132727432683"
     },
     "user_tz": 420
    },
    "id": "CEyx3CEgXp1h",
    "outputId": "413b4c22-96a8-49d7-86ce-2cfd615c50a5"
   },
   "outputs": [
    {
     "name": "stdout",
     "output_type": "stream",
     "text": [
      "Model: \"sequential_1\"\n",
      "_________________________________________________________________\n",
      "Layer (type)                 Output Shape              Param #   \n",
      "=================================================================\n",
      "conv2d_1 (Conv2D)            (None, 224, 224, 32)      896       \n",
      "_________________________________________________________________\n",
      "max_pooling2d_1 (MaxPooling2 (None, 112, 112, 32)      0         \n",
      "_________________________________________________________________\n",
      "conv2d_2 (Conv2D)            (None, 112, 112, 64)      18496     \n",
      "_________________________________________________________________\n",
      "max_pooling2d_2 (MaxPooling2 (None, 56, 56, 64)        0         \n",
      "_________________________________________________________________\n",
      "conv2d_3 (Conv2D)            (None, 56, 56, 128)       73856     \n",
      "_________________________________________________________________\n",
      "global_average_pooling2d_1 ( (None, 128)               0         \n",
      "_________________________________________________________________\n",
      "dense_1 (Dense)              (None, 128)               16512     \n",
      "_________________________________________________________________\n",
      "dropout_1 (Dropout)          (None, 128)               0         \n",
      "_________________________________________________________________\n",
      "dense_2 (Dense)              (None, 1)                 129       \n",
      "=================================================================\n",
      "Total params: 109,889\n",
      "Trainable params: 109,889\n",
      "Non-trainable params: 0\n",
      "_________________________________________________________________\n",
      "Train on 1432 samples, validate on 478 samples\n",
      "Epoch 1/100\n",
      "1432/1432 [==============================] - 9s 6ms/step - loss: 3.0403 - accuracy: 0.5719 - val_loss: 0.5751 - val_accuracy: 0.6925\n",
      "Epoch 2/100\n",
      "1432/1432 [==============================] - 2s 1ms/step - loss: 0.6943 - accuracy: 0.6355 - val_loss: 0.5507 - val_accuracy: 0.7155\n",
      "Epoch 3/100\n",
      "1432/1432 [==============================] - 2s 1ms/step - loss: 0.5644 - accuracy: 0.7095 - val_loss: 0.4593 - val_accuracy: 0.7803\n",
      "Epoch 4/100\n",
      "1432/1432 [==============================] - 2s 1ms/step - loss: 0.4792 - accuracy: 0.7814 - val_loss: 0.4054 - val_accuracy: 0.8598\n",
      "Epoch 5/100\n",
      "1432/1432 [==============================] - 2s 1ms/step - loss: 0.5437 - accuracy: 0.7577 - val_loss: 0.3946 - val_accuracy: 0.8745\n",
      "Epoch 6/100\n",
      "1432/1432 [==============================] - 2s 1ms/step - loss: 0.4634 - accuracy: 0.8080 - val_loss: 0.3693 - val_accuracy: 0.8724\n",
      "Epoch 7/100\n",
      "1432/1432 [==============================] - 2s 1ms/step - loss: 0.4007 - accuracy: 0.8401 - val_loss: 0.4362 - val_accuracy: 0.8138\n",
      "Epoch 8/100\n",
      "1432/1432 [==============================] - 2s 1ms/step - loss: 0.4253 - accuracy: 0.8115 - val_loss: 0.3706 - val_accuracy: 0.8577\n",
      "Epoch 9/100\n",
      "1432/1432 [==============================] - 2s 1ms/step - loss: 0.4297 - accuracy: 0.8268 - val_loss: 0.3338 - val_accuracy: 0.8933\n",
      "Epoch 10/100\n",
      "1432/1432 [==============================] - 2s 1ms/step - loss: 0.3651 - accuracy: 0.8492 - val_loss: 0.3303 - val_accuracy: 0.8766\n",
      "Epoch 11/100\n",
      "1432/1432 [==============================] - 2s 1ms/step - loss: 0.3347 - accuracy: 0.8638 - val_loss: 0.2784 - val_accuracy: 0.8870\n",
      "Epoch 12/100\n",
      "1432/1432 [==============================] - 2s 1ms/step - loss: 0.3577 - accuracy: 0.8589 - val_loss: 0.2592 - val_accuracy: 0.9163\n",
      "Epoch 13/100\n",
      "1432/1432 [==============================] - 2s 1ms/step - loss: 0.3284 - accuracy: 0.8687 - val_loss: 0.4175 - val_accuracy: 0.8054\n",
      "Epoch 14/100\n",
      "1432/1432 [==============================] - 2s 1ms/step - loss: 0.3483 - accuracy: 0.8534 - val_loss: 0.2512 - val_accuracy: 0.9163\n",
      "Epoch 15/100\n",
      "1432/1432 [==============================] - 2s 1ms/step - loss: 0.2969 - accuracy: 0.8764 - val_loss: 0.2382 - val_accuracy: 0.9184\n",
      "Epoch 16/100\n",
      "1432/1432 [==============================] - 2s 1ms/step - loss: 0.3421 - accuracy: 0.8575 - val_loss: 0.2747 - val_accuracy: 0.9038\n",
      "Epoch 17/100\n",
      "1432/1432 [==============================] - 2s 1ms/step - loss: 0.2854 - accuracy: 0.8966 - val_loss: 0.2434 - val_accuracy: 0.9247\n",
      "Epoch 18/100\n",
      "1432/1432 [==============================] - 2s 1ms/step - loss: 0.3347 - accuracy: 0.8561 - val_loss: 0.2096 - val_accuracy: 0.9247\n",
      "Epoch 19/100\n",
      "1432/1432 [==============================] - 2s 1ms/step - loss: 0.2677 - accuracy: 0.8994 - val_loss: 0.2339 - val_accuracy: 0.9079\n",
      "Epoch 20/100\n",
      "1432/1432 [==============================] - 2s 1ms/step - loss: 0.2571 - accuracy: 0.9029 - val_loss: 0.1831 - val_accuracy: 0.9289\n",
      "Epoch 21/100\n",
      "1432/1432 [==============================] - 2s 1ms/step - loss: 0.3034 - accuracy: 0.8778 - val_loss: 0.2060 - val_accuracy: 0.9205\n",
      "Epoch 22/100\n",
      "1432/1432 [==============================] - 2s 1ms/step - loss: 0.2535 - accuracy: 0.8966 - val_loss: 0.2062 - val_accuracy: 0.9205\n",
      "Epoch 23/100\n",
      "1432/1432 [==============================] - 2s 1ms/step - loss: 0.2753 - accuracy: 0.8946 - val_loss: 0.1810 - val_accuracy: 0.9310\n",
      "Epoch 24/100\n",
      "1432/1432 [==============================] - 2s 1ms/step - loss: 0.2891 - accuracy: 0.8757 - val_loss: 0.2473 - val_accuracy: 0.9142\n",
      "Epoch 25/100\n",
      "1432/1432 [==============================] - 2s 1ms/step - loss: 0.2605 - accuracy: 0.9029 - val_loss: 0.2333 - val_accuracy: 0.9059\n",
      "Epoch 26/100\n",
      "1432/1432 [==============================] - 2s 1ms/step - loss: 0.2249 - accuracy: 0.9064 - val_loss: 0.2446 - val_accuracy: 0.8933\n",
      "\n",
      "Epoch 00026: ReduceLROnPlateau reducing learning rate to 0.0005000000237487257.\n",
      "Epoch 27/100\n",
      "1432/1432 [==============================] - 2s 1ms/step - loss: 0.2098 - accuracy: 0.9183 - val_loss: 0.1600 - val_accuracy: 0.9331\n",
      "Epoch 28/100\n",
      "1432/1432 [==============================] - 2s 1ms/step - loss: 0.2076 - accuracy: 0.9211 - val_loss: 0.2422 - val_accuracy: 0.9079\n",
      "Epoch 29/100\n",
      "1432/1432 [==============================] - 2s 1ms/step - loss: 0.2082 - accuracy: 0.9190 - val_loss: 0.1692 - val_accuracy: 0.9310\n",
      "Epoch 30/100\n",
      "1432/1432 [==============================] - 2s 1ms/step - loss: 0.1968 - accuracy: 0.9253 - val_loss: 0.1551 - val_accuracy: 0.9435\n",
      "Epoch 31/100\n",
      "1432/1432 [==============================] - 2s 1ms/step - loss: 0.1940 - accuracy: 0.9323 - val_loss: 0.1799 - val_accuracy: 0.9331\n",
      "Epoch 32/100\n",
      "1432/1432 [==============================] - 2s 1ms/step - loss: 0.1865 - accuracy: 0.9309 - val_loss: 0.1669 - val_accuracy: 0.9268\n",
      "Epoch 33/100\n",
      "1432/1432 [==============================] - 2s 1ms/step - loss: 0.1801 - accuracy: 0.9316 - val_loss: 0.1471 - val_accuracy: 0.9372\n",
      "Epoch 34/100\n",
      "1432/1432 [==============================] - 2s 1ms/step - loss: 0.1888 - accuracy: 0.9260 - val_loss: 0.1728 - val_accuracy: 0.9331\n",
      "Epoch 35/100\n",
      "1432/1432 [==============================] - 2s 1ms/step - loss: 0.1768 - accuracy: 0.9385 - val_loss: 0.1534 - val_accuracy: 0.9393\n",
      "Epoch 36/100\n",
      "1432/1432 [==============================] - 2s 1ms/step - loss: 0.2199 - accuracy: 0.9176 - val_loss: 0.1449 - val_accuracy: 0.9414\n",
      "Epoch 37/100\n",
      "1432/1432 [==============================] - 2s 1ms/step - loss: 0.1769 - accuracy: 0.9302 - val_loss: 0.1496 - val_accuracy: 0.9393\n",
      "Epoch 38/100\n",
      "1432/1432 [==============================] - 2s 1ms/step - loss: 0.1931 - accuracy: 0.9260 - val_loss: 0.1445 - val_accuracy: 0.9372\n",
      "Epoch 39/100\n",
      "1432/1432 [==============================] - 2s 1ms/step - loss: 0.1696 - accuracy: 0.9330 - val_loss: 0.1410 - val_accuracy: 0.9498\n",
      "Epoch 40/100\n",
      "1432/1432 [==============================] - 2s 1ms/step - loss: 0.1720 - accuracy: 0.9399 - val_loss: 0.1941 - val_accuracy: 0.9184\n",
      "Epoch 41/100\n",
      "1432/1432 [==============================] - 2s 1ms/step - loss: 0.1643 - accuracy: 0.9406 - val_loss: 0.1609 - val_accuracy: 0.9351\n",
      "Epoch 42/100\n",
      "1432/1432 [==============================] - 2s 1ms/step - loss: 0.1698 - accuracy: 0.9365 - val_loss: 0.1359 - val_accuracy: 0.9414\n",
      "Epoch 43/100\n",
      "1432/1432 [==============================] - 2s 1ms/step - loss: 0.1601 - accuracy: 0.9399 - val_loss: 0.1264 - val_accuracy: 0.9477\n",
      "Epoch 44/100\n",
      "1432/1432 [==============================] - 2s 1ms/step - loss: 0.1553 - accuracy: 0.9441 - val_loss: 0.1483 - val_accuracy: 0.9372\n",
      "Epoch 45/100\n",
      "1432/1432 [==============================] - 2s 1ms/step - loss: 0.1812 - accuracy: 0.9281 - val_loss: 0.1287 - val_accuracy: 0.9435\n",
      "Epoch 46/100\n",
      "1432/1432 [==============================] - 2s 1ms/step - loss: 0.1545 - accuracy: 0.9378 - val_loss: 0.1312 - val_accuracy: 0.9477\n",
      "\n",
      "Epoch 00046: ReduceLROnPlateau reducing learning rate to 0.0002500000118743628.\n",
      "Epoch 47/100\n",
      "1432/1432 [==============================] - 2s 1ms/step - loss: 0.1421 - accuracy: 0.9406 - val_loss: 0.1414 - val_accuracy: 0.9414\n",
      "Epoch 48/100\n",
      "1432/1432 [==============================] - 2s 1ms/step - loss: 0.1602 - accuracy: 0.9385 - val_loss: 0.1301 - val_accuracy: 0.9477\n",
      "Epoch 49/100\n",
      "1432/1432 [==============================] - 2s 1ms/step - loss: 0.1475 - accuracy: 0.9441 - val_loss: 0.1320 - val_accuracy: 0.9498\n",
      "\n",
      "Epoch 00049: ReduceLROnPlateau reducing learning rate to 0.0001250000059371814.\n",
      "Epoch 50/100\n",
      "1432/1432 [==============================] - 2s 1ms/step - loss: 0.1271 - accuracy: 0.9490 - val_loss: 0.1321 - val_accuracy: 0.9498\n",
      "Epoch 51/100\n",
      "1432/1432 [==============================] - 2s 1ms/step - loss: 0.1399 - accuracy: 0.9490 - val_loss: 0.1222 - val_accuracy: 0.9477\n",
      "Epoch 52/100\n",
      "1432/1432 [==============================] - 2s 1ms/step - loss: 0.1233 - accuracy: 0.9546 - val_loss: 0.1293 - val_accuracy: 0.9498\n",
      "Epoch 53/100\n",
      "1432/1432 [==============================] - 2s 1ms/step - loss: 0.1322 - accuracy: 0.9483 - val_loss: 0.1304 - val_accuracy: 0.9540\n",
      "Epoch 54/100\n",
      "1432/1432 [==============================] - 2s 1ms/step - loss: 0.1246 - accuracy: 0.9518 - val_loss: 0.1330 - val_accuracy: 0.9519\n",
      "\n",
      "Epoch 00054: ReduceLROnPlateau reducing learning rate to 6.25000029685907e-05.\n",
      "Epoch 55/100\n",
      "1432/1432 [==============================] - 2s 1ms/step - loss: 0.1190 - accuracy: 0.9490 - val_loss: 0.1251 - val_accuracy: 0.9561\n",
      "Epoch 56/100\n",
      "1432/1432 [==============================] - 2s 1ms/step - loss: 0.1222 - accuracy: 0.9511 - val_loss: 0.1200 - val_accuracy: 0.9519\n",
      "Epoch 57/100\n",
      "1432/1432 [==============================] - 2s 1ms/step - loss: 0.1186 - accuracy: 0.9567 - val_loss: 0.1206 - val_accuracy: 0.9519\n",
      "Epoch 58/100\n",
      "1432/1432 [==============================] - 2s 1ms/step - loss: 0.1175 - accuracy: 0.9518 - val_loss: 0.1184 - val_accuracy: 0.9477\n",
      "Epoch 59/100\n",
      "1432/1432 [==============================] - 2s 1ms/step - loss: 0.1172 - accuracy: 0.9581 - val_loss: 0.1189 - val_accuracy: 0.9477\n",
      "Epoch 60/100\n",
      "1432/1432 [==============================] - 2s 1ms/step - loss: 0.1247 - accuracy: 0.9532 - val_loss: 0.1182 - val_accuracy: 0.9519\n",
      "Epoch 61/100\n",
      "1432/1432 [==============================] - 2s 1ms/step - loss: 0.1178 - accuracy: 0.9539 - val_loss: 0.1179 - val_accuracy: 0.9477\n",
      "Epoch 62/100\n",
      "1432/1432 [==============================] - 2s 1ms/step - loss: 0.1195 - accuracy: 0.9546 - val_loss: 0.1168 - val_accuracy: 0.9519\n",
      "Epoch 63/100\n",
      "1432/1432 [==============================] - 2s 1ms/step - loss: 0.1232 - accuracy: 0.9504 - val_loss: 0.1222 - val_accuracy: 0.9540\n",
      "Epoch 64/100\n",
      "1432/1432 [==============================] - 2s 1ms/step - loss: 0.1150 - accuracy: 0.9546 - val_loss: 0.1161 - val_accuracy: 0.9456\n",
      "Epoch 65/100\n",
      "1432/1432 [==============================] - 2s 1ms/step - loss: 0.1238 - accuracy: 0.9560 - val_loss: 0.1223 - val_accuracy: 0.9498\n",
      "Epoch 66/100\n",
      "1432/1432 [==============================] - 2s 1ms/step - loss: 0.1145 - accuracy: 0.9595 - val_loss: 0.1312 - val_accuracy: 0.9540\n",
      "Epoch 67/100\n",
      "1432/1432 [==============================] - 2s 1ms/step - loss: 0.1195 - accuracy: 0.9567 - val_loss: 0.1177 - val_accuracy: 0.9561\n",
      "\n",
      "Epoch 00067: ReduceLROnPlateau reducing learning rate to 3.125000148429535e-05.\n",
      "Epoch 68/100\n",
      "1432/1432 [==============================] - 2s 1ms/step - loss: 0.1147 - accuracy: 0.9560 - val_loss: 0.1229 - val_accuracy: 0.9540\n",
      "Epoch 69/100\n",
      "1432/1432 [==============================] - 2s 1ms/step - loss: 0.1132 - accuracy: 0.9539 - val_loss: 0.1202 - val_accuracy: 0.9561\n",
      "Epoch 70/100\n",
      "1432/1432 [==============================] - 2s 1ms/step - loss: 0.1144 - accuracy: 0.9581 - val_loss: 0.1237 - val_accuracy: 0.9540\n",
      "\n",
      "Epoch 00070: ReduceLROnPlateau reducing learning rate to 1.5625000742147677e-05.\n",
      "Epoch 71/100\n",
      "1432/1432 [==============================] - 2s 1ms/step - loss: 0.1129 - accuracy: 0.9560 - val_loss: 0.1205 - val_accuracy: 0.9561\n",
      "Epoch 72/100\n",
      "1432/1432 [==============================] - 2s 1ms/step - loss: 0.1108 - accuracy: 0.9581 - val_loss: 0.1171 - val_accuracy: 0.9498\n",
      "Restoring model weights from the end of the best epoch\n",
      "Epoch 00072: early stopping\n",
      "\n",
      "Metrics on train\n",
      "Accuracy Score:  0.9539267015706806\n",
      "Precision Score:  0.9407665505226481\n",
      "Recall Score:  0.9818181818181818\n",
      "F1 Score:  0.9608540925266905\n",
      "\n",
      "Metrics on test\n",
      "Accuracy Score:  0.9497645211930926\n",
      "Precision Score:  0.9333333333333333\n",
      "Recall Score:  0.9837837837837838\n",
      "F1 Score:  0.9578947368421054\n"
     ]
    },
    {
     "data": {
      "image/png": "[encoded data removed]",
      "text/plain": [
       "<Figure size 900x600 with 2 Axes>"
      ]
     },
     "metadata": {
      "needs_background": "light",
      "tags": []
     },
     "output_type": "display_data"
    },
    {
     "data": {
      "image/png": "[encoded data removed]",
      "text/plain": [
       "<Figure size 900x600 with 2 Axes>"
      ]
     },
     "metadata": {
      "needs_background": "light",
      "tags": []
     },
     "output_type": "display_data"
    }
   ],
   "source": [
    "model_test_6 = run_CNN_5(X_train, X_test, y_train, y_test, epochs=100)"
   ]
  },
  {
   "cell_type": "code",
   "execution_count": 42,
   "metadata": {
    "colab": {
     "base_uri": "https://localhost:8080/",
     "height": 1000
    },
    "colab_type": "code",
    "executionInfo": {
     "elapsed": 140244,
     "status": "ok",
     "timestamp": 1592249843088,
     "user": {
      "displayName": "Luke L",
      "photoUrl": "https://lh3.googleusercontent.com/a-/AOh14Gh2V6CcD-mvJZNcg0pcJrVX81wkXA0GyIYCyXlCCQ=s64",
      "userId": "10662023132727432683"
     },
     "user_tz": 420
    },
    "id": "07F8LqeIeFJn",
    "outputId": "64bf4546-e79c-4c86-ecac-18ca5b75a5e6"
   },
   "outputs": [
    {
     "name": "stdout",
     "output_type": "stream",
     "text": [
      "Model: \"sequential_1\"\n",
      "_________________________________________________________________\n",
      "Layer (type)                 Output Shape              Param #   \n",
      "=================================================================\n",
      "conv2d_1 (Conv2D)            (None, 224, 224, 32)      896       \n",
      "_________________________________________________________________\n",
      "max_pooling2d_1 (MaxPooling2 (None, 112, 112, 32)      0         \n",
      "_________________________________________________________________\n",
      "conv2d_2 (Conv2D)            (None, 112, 112, 64)      18496     \n",
      "_________________________________________________________________\n",
      "max_pooling2d_2 (MaxPooling2 (None, 56, 56, 64)        0         \n",
      "_________________________________________________________________\n",
      "conv2d_3 (Conv2D)            (None, 56, 56, 128)       73856     \n",
      "_________________________________________________________________\n",
      "global_average_pooling2d_1 ( (None, 128)               0         \n",
      "_________________________________________________________________\n",
      "dense_1 (Dense)              (None, 128)               16512     \n",
      "_________________________________________________________________\n",
      "dropout_1 (Dropout)          (None, 128)               0         \n",
      "_________________________________________________________________\n",
      "dense_2 (Dense)              (None, 1)                 129       \n",
      "=================================================================\n",
      "Total params: 109,889\n",
      "Trainable params: 109,889\n",
      "Non-trainable params: 0\n",
      "_________________________________________________________________\n",
      "Train on 1432 samples, validate on 478 samples\n",
      "Epoch 1/100\n",
      "1432/1432 [==============================] - 8s 6ms/step - loss: 4.0014 - accuracy: 0.5670 - val_loss: 0.5809 - val_accuracy: 0.6799\n",
      "Epoch 2/100\n",
      "1432/1432 [==============================] - 2s 1ms/step - loss: 0.6307 - accuracy: 0.6934 - val_loss: 0.4986 - val_accuracy: 0.8264\n",
      "Epoch 3/100\n",
      "1432/1432 [==============================] - 2s 1ms/step - loss: 0.5186 - accuracy: 0.7696 - val_loss: 0.4315 - val_accuracy: 0.8389\n",
      "Epoch 4/100\n",
      "1432/1432 [==============================] - 2s 1ms/step - loss: 0.4626 - accuracy: 0.7961 - val_loss: 0.3820 - val_accuracy: 0.8682\n",
      "Epoch 5/100\n",
      "1432/1432 [==============================] - 2s 1ms/step - loss: 0.4441 - accuracy: 0.8115 - val_loss: 0.3958 - val_accuracy: 0.8473\n",
      "Epoch 6/100\n",
      "1432/1432 [==============================] - 2s 1ms/step - loss: 0.4149 - accuracy: 0.8254 - val_loss: 0.3277 - val_accuracy: 0.8808\n",
      "Epoch 7/100\n",
      "1432/1432 [==============================] - 2s 1ms/step - loss: 0.4221 - accuracy: 0.8303 - val_loss: 0.4486 - val_accuracy: 0.7992\n",
      "Epoch 8/100\n",
      "1432/1432 [==============================] - 2s 1ms/step - loss: 0.4302 - accuracy: 0.8289 - val_loss: 0.3805 - val_accuracy: 0.8494\n",
      "Epoch 9/100\n",
      "1432/1432 [==============================] - 2s 1ms/step - loss: 0.3887 - accuracy: 0.8457 - val_loss: 0.5385 - val_accuracy: 0.7238\n",
      "\n",
      "Epoch 00009: ReduceLROnPlateau reducing learning rate to 0.0005000000237487257.\n",
      "Epoch 10/100\n",
      "1432/1432 [==============================] - 2s 1ms/step - loss: 0.3841 - accuracy: 0.8415 - val_loss: 0.2995 - val_accuracy: 0.9017\n",
      "Epoch 11/100\n",
      "1432/1432 [==============================] - 2s 1ms/step - loss: 0.3363 - accuracy: 0.8736 - val_loss: 0.2778 - val_accuracy: 0.9038\n",
      "Epoch 12/100\n",
      "1432/1432 [==============================] - 2s 1ms/step - loss: 0.3375 - accuracy: 0.8673 - val_loss: 0.2765 - val_accuracy: 0.9059\n",
      "Epoch 13/100\n",
      "1432/1432 [==============================] - 2s 1ms/step - loss: 0.3207 - accuracy: 0.8645 - val_loss: 0.2494 - val_accuracy: 0.9059\n",
      "Epoch 14/100\n",
      "1432/1432 [==============================] - 2s 1ms/step - loss: 0.3262 - accuracy: 0.8750 - val_loss: 0.2608 - val_accuracy: 0.8996\n",
      "Epoch 15/100\n",
      "1432/1432 [==============================] - 2s 1ms/step - loss: 0.3096 - accuracy: 0.8834 - val_loss: 0.3312 - val_accuracy: 0.8724\n",
      "Epoch 16/100\n",
      "1432/1432 [==============================] - 2s 1ms/step - loss: 0.3457 - accuracy: 0.8541 - val_loss: 0.2380 - val_accuracy: 0.9205\n",
      "Epoch 17/100\n",
      "1432/1432 [==============================] - 2s 1ms/step - loss: 0.3018 - accuracy: 0.8855 - val_loss: 0.2545 - val_accuracy: 0.9121\n",
      "Epoch 18/100\n",
      "1432/1432 [==============================] - 2s 1ms/step - loss: 0.3184 - accuracy: 0.8687 - val_loss: 0.2958 - val_accuracy: 0.8912\n",
      "Epoch 19/100\n",
      "1432/1432 [==============================] - 2s 1ms/step - loss: 0.2975 - accuracy: 0.8813 - val_loss: 0.2313 - val_accuracy: 0.9226\n",
      "Epoch 20/100\n",
      "1432/1432 [==============================] - 2s 1ms/step - loss: 0.2812 - accuracy: 0.8918 - val_loss: 0.2412 - val_accuracy: 0.9142\n",
      "Epoch 21/100\n",
      "1432/1432 [==============================] - 2s 1ms/step - loss: 0.2840 - accuracy: 0.8848 - val_loss: 0.2489 - val_accuracy: 0.9121\n",
      "Epoch 22/100\n",
      "1432/1432 [==============================] - 2s 1ms/step - loss: 0.2844 - accuracy: 0.8946 - val_loss: 0.2255 - val_accuracy: 0.9268\n",
      "Epoch 23/100\n",
      "1432/1432 [==============================] - 2s 1ms/step - loss: 0.2831 - accuracy: 0.8876 - val_loss: 0.2725 - val_accuracy: 0.8870\n",
      "Epoch 24/100\n",
      "1432/1432 [==============================] - 2s 1ms/step - loss: 0.2549 - accuracy: 0.8994 - val_loss: 0.1965 - val_accuracy: 0.9351\n",
      "Epoch 25/100\n",
      "1432/1432 [==============================] - 2s 1ms/step - loss: 0.2652 - accuracy: 0.9015 - val_loss: 0.2223 - val_accuracy: 0.9268\n",
      "Epoch 26/100\n",
      "1432/1432 [==============================] - 2s 1ms/step - loss: 0.2604 - accuracy: 0.8994 - val_loss: 0.2179 - val_accuracy: 0.9205\n",
      "Epoch 27/100\n",
      "1432/1432 [==============================] - 2s 1ms/step - loss: 0.2314 - accuracy: 0.9092 - val_loss: 0.1864 - val_accuracy: 0.9268\n",
      "Epoch 28/100\n",
      "1432/1432 [==============================] - 2s 1ms/step - loss: 0.2514 - accuracy: 0.9001 - val_loss: 0.1713 - val_accuracy: 0.9372\n",
      "Epoch 29/100\n",
      "1432/1432 [==============================] - 2s 1ms/step - loss: 0.2459 - accuracy: 0.8966 - val_loss: 0.1946 - val_accuracy: 0.9393\n",
      "Epoch 30/100\n",
      "1432/1432 [==============================] - 2s 1ms/step - loss: 0.2165 - accuracy: 0.9197 - val_loss: 0.1841 - val_accuracy: 0.9372\n",
      "Epoch 31/100\n",
      "1432/1432 [==============================] - 2s 1ms/step - loss: 0.2195 - accuracy: 0.9064 - val_loss: 0.2652 - val_accuracy: 0.8787\n",
      "\n",
      "Epoch 00031: ReduceLROnPlateau reducing learning rate to 0.0002500000118743628.\n",
      "Epoch 32/100\n",
      "1432/1432 [==============================] - 2s 1ms/step - loss: 0.2069 - accuracy: 0.9176 - val_loss: 0.1743 - val_accuracy: 0.9351\n",
      "Epoch 33/100\n",
      "1432/1432 [==============================] - 2s 1ms/step - loss: 0.1913 - accuracy: 0.9253 - val_loss: 0.1576 - val_accuracy: 0.9414\n",
      "Epoch 34/100\n",
      "1432/1432 [==============================] - 2s 1ms/step - loss: 0.1838 - accuracy: 0.9239 - val_loss: 0.1731 - val_accuracy: 0.9414\n",
      "Epoch 35/100\n",
      "1432/1432 [==============================] - 2s 1ms/step - loss: 0.1938 - accuracy: 0.9218 - val_loss: 0.1568 - val_accuracy: 0.9351\n",
      "Epoch 36/100\n",
      "1432/1432 [==============================] - 2s 1ms/step - loss: 0.2055 - accuracy: 0.9141 - val_loss: 0.1631 - val_accuracy: 0.9372\n",
      "Epoch 37/100\n",
      "1432/1432 [==============================] - 2s 1ms/step - loss: 0.1804 - accuracy: 0.9295 - val_loss: 0.2087 - val_accuracy: 0.9226\n",
      "Epoch 38/100\n",
      "1432/1432 [==============================] - 2s 1ms/step - loss: 0.1770 - accuracy: 0.9302 - val_loss: 0.1530 - val_accuracy: 0.9372\n",
      "Epoch 39/100\n",
      "1432/1432 [==============================] - 2s 1ms/step - loss: 0.1766 - accuracy: 0.9344 - val_loss: 0.1664 - val_accuracy: 0.9435\n",
      "Epoch 40/100\n",
      "1432/1432 [==============================] - 2s 1ms/step - loss: 0.1931 - accuracy: 0.9204 - val_loss: 0.1485 - val_accuracy: 0.9435\n",
      "Epoch 41/100\n",
      "1432/1432 [==============================] - 2s 1ms/step - loss: 0.1661 - accuracy: 0.9288 - val_loss: 0.1528 - val_accuracy: 0.9414\n",
      "Epoch 42/100\n",
      "1432/1432 [==============================] - 2s 1ms/step - loss: 0.1751 - accuracy: 0.9260 - val_loss: 0.1476 - val_accuracy: 0.9351\n",
      "Epoch 43/100\n",
      "1432/1432 [==============================] - 2s 1ms/step - loss: 0.1698 - accuracy: 0.9323 - val_loss: 0.2979 - val_accuracy: 0.8787\n",
      "Epoch 44/100\n",
      "1432/1432 [==============================] - 2s 1ms/step - loss: 0.1746 - accuracy: 0.9330 - val_loss: 0.1570 - val_accuracy: 0.9456\n",
      "Epoch 45/100\n",
      "1432/1432 [==============================] - 2s 1ms/step - loss: 0.1585 - accuracy: 0.9385 - val_loss: 0.1454 - val_accuracy: 0.9456\n",
      "Epoch 46/100\n",
      "1432/1432 [==============================] - 2s 1ms/step - loss: 0.1651 - accuracy: 0.9309 - val_loss: 0.1533 - val_accuracy: 0.9435\n",
      "Epoch 47/100\n",
      "1432/1432 [==============================] - 2s 1ms/step - loss: 0.1801 - accuracy: 0.9351 - val_loss: 0.1617 - val_accuracy: 0.9456\n",
      "Epoch 48/100\n",
      "1432/1432 [==============================] - 2s 1ms/step - loss: 0.1630 - accuracy: 0.9378 - val_loss: 0.1539 - val_accuracy: 0.9435\n",
      "\n",
      "Epoch 00048: ReduceLROnPlateau reducing learning rate to 0.0001250000059371814.\n",
      "Epoch 49/100\n",
      "1432/1432 [==============================] - 2s 1ms/step - loss: 0.1462 - accuracy: 0.9427 - val_loss: 0.1342 - val_accuracy: 0.9414\n",
      "Epoch 50/100\n",
      "1432/1432 [==============================] - 2s 1ms/step - loss: 0.1508 - accuracy: 0.9372 - val_loss: 0.1360 - val_accuracy: 0.9414\n",
      "Epoch 51/100\n",
      "1432/1432 [==============================] - 2s 1ms/step - loss: 0.1389 - accuracy: 0.9539 - val_loss: 0.1658 - val_accuracy: 0.9372\n",
      "Epoch 52/100\n",
      "1432/1432 [==============================] - 2s 1ms/step - loss: 0.1515 - accuracy: 0.9448 - val_loss: 0.1353 - val_accuracy: 0.9435\n",
      "\n",
      "Epoch 00052: ReduceLROnPlateau reducing learning rate to 6.25000029685907e-05.\n",
      "Epoch 53/100\n",
      "1432/1432 [==============================] - 2s 1ms/step - loss: 0.1384 - accuracy: 0.9434 - val_loss: 0.1381 - val_accuracy: 0.9435\n",
      "Epoch 54/100\n",
      "1432/1432 [==============================] - 2s 1ms/step - loss: 0.1335 - accuracy: 0.9441 - val_loss: 0.1381 - val_accuracy: 0.9393\n",
      "Epoch 55/100\n",
      "1432/1432 [==============================] - 2s 1ms/step - loss: 0.1472 - accuracy: 0.9420 - val_loss: 0.1387 - val_accuracy: 0.9393\n",
      "\n",
      "Epoch 00055: ReduceLROnPlateau reducing learning rate to 3.125000148429535e-05.\n",
      "Epoch 56/100\n",
      "1432/1432 [==============================] - 2s 1ms/step - loss: 0.1344 - accuracy: 0.9462 - val_loss: 0.1355 - val_accuracy: 0.9456\n",
      "Epoch 57/100\n",
      "1432/1432 [==============================] - 2s 1ms/step - loss: 0.1353 - accuracy: 0.9448 - val_loss: 0.1337 - val_accuracy: 0.9456\n",
      "Epoch 58/100\n",
      "1432/1432 [==============================] - 2s 1ms/step - loss: 0.1378 - accuracy: 0.9476 - val_loss: 0.1480 - val_accuracy: 0.9393\n",
      "Epoch 59/100\n",
      "1432/1432 [==============================] - 2s 1ms/step - loss: 0.1321 - accuracy: 0.9490 - val_loss: 0.1393 - val_accuracy: 0.9456\n",
      "Epoch 60/100\n",
      "1432/1432 [==============================] - 2s 1ms/step - loss: 0.1287 - accuracy: 0.9490 - val_loss: 0.1325 - val_accuracy: 0.9435\n",
      "Epoch 61/100\n",
      "1432/1432 [==============================] - 2s 1ms/step - loss: 0.1295 - accuracy: 0.9490 - val_loss: 0.1509 - val_accuracy: 0.9393\n",
      "Epoch 62/100\n",
      "1432/1432 [==============================] - 2s 1ms/step - loss: 0.1329 - accuracy: 0.9476 - val_loss: 0.1364 - val_accuracy: 0.9414\n",
      "Epoch 63/100\n",
      "1432/1432 [==============================] - 2s 1ms/step - loss: 0.1336 - accuracy: 0.9455 - val_loss: 0.1421 - val_accuracy: 0.9435\n",
      "\n",
      "Epoch 00063: ReduceLROnPlateau reducing learning rate to 1.5625000742147677e-05.\n",
      "Epoch 64/100\n",
      "1432/1432 [==============================] - 2s 1ms/step - loss: 0.1324 - accuracy: 0.9504 - val_loss: 0.1355 - val_accuracy: 0.9456\n",
      "Epoch 65/100\n",
      "1432/1432 [==============================] - 2s 1ms/step - loss: 0.1315 - accuracy: 0.9518 - val_loss: 0.1341 - val_accuracy: 0.9414\n",
      "Epoch 66/100\n",
      "1432/1432 [==============================] - 2s 1ms/step - loss: 0.1305 - accuracy: 0.9490 - val_loss: 0.1328 - val_accuracy: 0.9414\n",
      "\n",
      "Epoch 00066: ReduceLROnPlateau reducing learning rate to 7.812500371073838e-06.\n",
      "Epoch 67/100\n",
      "1432/1432 [==============================] - 2s 1ms/step - loss: 0.1332 - accuracy: 0.9476 - val_loss: 0.1348 - val_accuracy: 0.9456\n",
      "Epoch 68/100\n",
      "1432/1432 [==============================] - 2s 1ms/step - loss: 0.1275 - accuracy: 0.9483 - val_loss: 0.1360 - val_accuracy: 0.9435\n",
      "Restoring model weights from the end of the best epoch\n",
      "Epoch 00068: early stopping\n",
      "\n",
      "Metrics on train\n",
      "Accuracy Score:  0.9492146596858638\n",
      "Precision Score:  0.9395267309377738\n",
      "Recall Score:  0.9745454545454545\n",
      "F1 Score:  0.9567157518964747\n",
      "\n",
      "Metrics on test\n",
      "Accuracy Score:  0.9419152276295133\n",
      "Precision Score:  0.9347258485639687\n",
      "Recall Score:  0.9675675675675676\n",
      "F1 Score:  0.9508632138114211\n"
     ]
    },
    {
     "data": {
      "image/png": "[encoded data removed]",
      "text/plain": [
       "<Figure size 900x600 with 2 Axes>"
      ]
     },
     "metadata": {
      "tags": []
     },
     "output_type": "display_data"
    },
    {
     "data": {
      "image/png": "[encoded data removed]",
      "text/plain": [
       "<Figure size 900x600 with 2 Axes>"
      ]
     },
     "metadata": {
      "tags": []
     },
     "output_type": "display_data"
    }
   ],
   "source": [
    "model_test_6b = run_CNN_5(X_train, X_test, y_train, y_test, epochs=100)"
   ]
  },
  {
   "cell_type": "code",
   "execution_count": 0,
   "metadata": {
    "colab": {},
    "colab_type": "code",
    "id": "t2PMVQ4Pjubb"
   },
   "outputs": [],
   "source": [
    "ar_4_predictions = model_test_6.predict_proba(ar_4)"
   ]
  },
  {
   "cell_type": "code",
   "execution_count": 0,
   "metadata": {
    "colab": {},
    "colab_type": "code",
    "id": "ZZNYc7btkl9v"
   },
   "outputs": [],
   "source": [
    "ar_25_predictions = model_test_6.predict_proba(ar_25)"
   ]
  },
  {
   "cell_type": "code",
   "execution_count": 0,
   "metadata": {
    "colab": {
     "base_uri": "https://localhost:8080/",
     "height": 34
    },
    "colab_type": "code",
    "executionInfo": {
     "elapsed": 127811,
     "status": "ok",
     "timestamp": 1592168037316,
     "user": {
      "displayName": "Luke L",
      "photoUrl": "https://lh3.googleusercontent.com/a-/AOh14Gh2V6CcD-mvJZNcg0pcJrVX81wkXA0GyIYCyXlCCQ=s64",
      "userId": "10662023132727432683"
     },
     "user_tz": 420
    },
    "id": "IBf5qUWqkpv7",
    "outputId": "ecba7cf0-3e66-452a-df72-ef3bd1a88e1b"
   },
   "outputs": [
    {
     "data": {
      "text/plain": [
       "(1077, 1)"
      ]
     },
     "execution_count": 29,
     "metadata": {
      "tags": []
     },
     "output_type": "execute_result"
    }
   ],
   "source": [
    "ar_4_predictions.shape"
   ]
  },
  {
   "cell_type": "code",
   "execution_count": 0,
   "metadata": {
    "colab": {
     "base_uri": "https://localhost:8080/",
     "height": 34
    },
    "colab_type": "code",
    "executionInfo": {
     "elapsed": 697,
     "status": "ok",
     "timestamp": 1592169448071,
     "user": {
      "displayName": "Luke L",
      "photoUrl": "https://lh3.googleusercontent.com/a-/AOh14Gh2V6CcD-mvJZNcg0pcJrVX81wkXA0GyIYCyXlCCQ=s64",
      "userId": "10662023132727432683"
     },
     "user_tz": 420
    },
    "id": "q_GqRyuksbGJ",
    "outputId": "bd9f7f3d-2f4f-4816-df3a-7420ef7158b9"
   },
   "outputs": [
    {
     "data": {
      "text/plain": [
       "(1470, 1)"
      ]
     },
     "execution_count": 32,
     "metadata": {
      "tags": []
     },
     "output_type": "execute_result"
    }
   ],
   "source": [
    "ar_25_predictions.shape"
   ]
  },
  {
   "cell_type": "code",
   "execution_count": 0,
   "metadata": {
    "colab": {},
    "colab_type": "code",
    "id": "tQfJaEU6kw8Z"
   },
   "outputs": [],
   "source": [
    "# np.savez_compressed('ar_4_predictions_14Jun.npz', ar_4_predictions)"
   ]
  },
  {
   "cell_type": "code",
   "execution_count": 0,
   "metadata": {
    "colab": {},
    "colab_type": "code",
    "id": "P5pMIL0IsWQc"
   },
   "outputs": [],
   "source": [
    "# np.savez_compressed('ar_25_predictions_14Jun.npz', ar_25_predictions)"
   ]
  },
  {
   "cell_type": "code",
   "execution_count": 0,
   "metadata": {
    "colab": {},
    "colab_type": "code",
    "id": "CijFQRrtbHrM"
   },
   "outputs": [],
   "source": []
  },
  {
   "cell_type": "code",
   "execution_count": 0,
   "metadata": {
    "colab": {},
    "colab_type": "code",
    "id": "TeDeG_5rbH0R"
   },
   "outputs": [],
   "source": [
    "ar_4_pred_dict = np.load('ar_4_predictions_14Jun.npz')\n",
    "ar_4_predictions = ar_4_pred_dict['arr_0']"
   ]
  },
  {
   "cell_type": "code",
   "execution_count": 0,
   "metadata": {
    "colab": {},
    "colab_type": "code",
    "id": "NQq-UirybH9H"
   },
   "outputs": [],
   "source": [
    "ar_25_pred_dict = np.load('ar_25_predictions_14Jun.npz')\n",
    "ar_25_predictions = ar_25_pred_dict['arr_0']\n"
   ]
  },
  {
   "cell_type": "code",
   "execution_count": 0,
   "metadata": {
    "colab": {},
    "colab_type": "code",
    "id": "fHhcYnZDbIHn"
   },
   "outputs": [],
   "source": []
  },
  {
   "cell_type": "code",
   "execution_count": 0,
   "metadata": {
    "colab": {},
    "colab_type": "code",
    "id": "r60iuUtzxc-0"
   },
   "outputs": [],
   "source": [
    "ar_4_wrong = ar_4_predictions[ar_4_predictions>0.5]"
   ]
  },
  {
   "cell_type": "code",
   "execution_count": 0,
   "metadata": {
    "colab": {},
    "colab_type": "code",
    "id": "0x1973m3BsWf"
   },
   "outputs": [],
   "source": [
    "# np.savez_compressed('ar_4_wrong_14Jun.npz', ar_4_wrong)"
   ]
  },
  {
   "cell_type": "code",
   "execution_count": 0,
   "metadata": {
    "colab": {},
    "colab_type": "code",
    "id": "oXRLlYKs-3Xj"
   },
   "outputs": [],
   "source": [
    "df_4_wrong = df_4[ar_4_predictions>0.5]"
   ]
  },
  {
   "cell_type": "code",
   "execution_count": 0,
   "metadata": {
    "colab": {},
    "colab_type": "code",
    "id": "NLmpXubKJlF3"
   },
   "outputs": [],
   "source": [
    "# df_4_wrong.to_csv('df_4_wrong.csv')"
   ]
  },
  {
   "cell_type": "code",
   "execution_count": 0,
   "metadata": {
    "colab": {
     "base_uri": "https://localhost:8080/",
     "height": 34
    },
    "colab_type": "code",
    "executionInfo": {
     "elapsed": 1140,
     "status": "ok",
     "timestamp": 1592177078911,
     "user": {
      "displayName": "Luke L",
      "photoUrl": "https://lh3.googleusercontent.com/a-/AOh14Gh2V6CcD-mvJZNcg0pcJrVX81wkXA0GyIYCyXlCCQ=s64",
      "userId": "10662023132727432683"
     },
     "user_tz": 420
    },
    "id": "22C2vzK7Jf3n",
    "outputId": "baf43a59-c01d-4bee-bc86-a4cc9c5b82c0"
   },
   "outputs": [
    {
     "data": {
      "text/plain": [
       "94"
      ]
     },
     "execution_count": 91,
     "metadata": {
      "tags": []
     },
     "output_type": "execute_result"
    }
   ],
   "source": [
    "len(df_4_wrong)"
   ]
  },
  {
   "cell_type": "code",
   "execution_count": 0,
   "metadata": {
    "colab": {
     "base_uri": "https://localhost:8080/",
     "height": 340
    },
    "colab_type": "code",
    "executionInfo": {
     "elapsed": 1838,
     "status": "ok",
     "timestamp": 1592171071975,
     "user": {
      "displayName": "Luke L",
      "photoUrl": "https://lh3.googleusercontent.com/a-/AOh14Gh2V6CcD-mvJZNcg0pcJrVX81wkXA0GyIYCyXlCCQ=s64",
      "userId": "10662023132727432683"
     },
     "user_tz": 420
    },
    "id": "_AyugUKryFNA",
    "outputId": "3d6ae254-85da-46e4-c0e7-e2edc0cbb3ed"
   },
   "outputs": [
    {
     "data": {
      "text/plain": [
       "array([0.7167678 , 0.9287652 , 0.7019415 , 0.55592114, 0.88612884,\n",
       "       0.783458  , 0.7148167 , 0.7991425 , 0.6905985 , 0.89565164,\n",
       "       0.7630606 , 0.93936926, 0.9852697 , 0.5730976 , 0.80742335,\n",
       "       0.8428917 , 0.94200474, 0.520908  , 0.6102764 , 0.87201226,\n",
       "       0.55053025, 0.7104766 , 0.5912384 , 0.66903925, 0.54242325,\n",
       "       0.8442339 , 0.6206019 , 0.988283  , 0.60240954, 0.81119686,\n",
       "       0.97966397, 0.50513375, 0.9970752 , 0.8220014 , 0.71416855,\n",
       "       0.7373535 , 0.7757015 , 0.64891875, 0.98579365, 0.5600365 ,\n",
       "       0.6630989 , 0.55537784, 0.861407  , 0.8063782 , 0.5820326 ,\n",
       "       0.8969387 , 0.5523182 , 0.8346443 , 0.96973175, 0.76859957,\n",
       "       0.6438889 , 0.5166337 , 0.7603246 , 0.5451966 , 0.73891515,\n",
       "       0.6226669 , 0.67165476, 0.574735  , 0.8409649 , 0.66104454,\n",
       "       0.6623854 , 0.6992525 , 0.6823019 , 0.56227237, 0.64295244,\n",
       "       0.62329453, 0.71770376, 0.76975226, 0.9261788 , 0.7485168 ,\n",
       "       0.8168459 , 0.883441  , 0.74101007, 0.7106181 , 0.6867234 ,\n",
       "       0.82177436, 0.6716372 , 0.7971572 , 0.6783762 , 0.5907295 ,\n",
       "       0.99176615, 0.83922774, 0.8274613 , 0.6231283 , 0.68868625,\n",
       "       0.57192177, 0.75898176, 0.717335  , 0.6927201 , 0.97976744,\n",
       "       0.5398677 , 0.5748205 , 0.7232805 , 0.5658808 ], dtype=float32)"
      ]
     },
     "execution_count": 61,
     "metadata": {
      "tags": []
     },
     "output_type": "execute_result"
    }
   ],
   "source": [
    "ar_4_wrong"
   ]
  },
  {
   "cell_type": "code",
   "execution_count": 0,
   "metadata": {
    "colab": {
     "base_uri": "https://localhost:8080/",
     "height": 34
    },
    "colab_type": "code",
    "executionInfo": {
     "elapsed": 1377,
     "status": "ok",
     "timestamp": 1592170873290,
     "user": {
      "displayName": "Luke L",
      "photoUrl": "https://lh3.googleusercontent.com/a-/AOh14Gh2V6CcD-mvJZNcg0pcJrVX81wkXA0GyIYCyXlCCQ=s64",
      "userId": "10662023132727432683"
     },
     "user_tz": 420
    },
    "id": "euMdDXcRx2RY",
    "outputId": "4f2e13d8-fff8-4890-df95-fa2cfcd5438f"
   },
   "outputs": [
    {
     "data": {
      "text/plain": [
       "94"
      ]
     },
     "execution_count": 56,
     "metadata": {
      "tags": []
     },
     "output_type": "execute_result"
    }
   ],
   "source": [
    "len(ar_4_wrong)"
   ]
  },
  {
   "cell_type": "code",
   "execution_count": 0,
   "metadata": {
    "colab": {},
    "colab_type": "code",
    "id": "VS1-78oKsZor"
   },
   "outputs": [],
   "source": [
    "ar_25_wrong = ar_25_predictions[ar_25_predictions<0.5]"
   ]
  },
  {
   "cell_type": "code",
   "execution_count": 25,
   "metadata": {
    "colab": {
     "base_uri": "https://localhost:8080/",
     "height": 136
    },
    "colab_type": "code",
    "executionInfo": {
     "elapsed": 954,
     "status": "ok",
     "timestamp": 1592248928922,
     "user": {
      "displayName": "Luke L",
      "photoUrl": "https://lh3.googleusercontent.com/a-/AOh14Gh2V6CcD-mvJZNcg0pcJrVX81wkXA0GyIYCyXlCCQ=s64",
      "userId": "10662023132727432683"
     },
     "user_tz": 420
    },
    "id": "GRpOf4qSyKsQ",
    "outputId": "5e49b4a4-08eb-4074-98ca-6de5ded2250a"
   },
   "outputs": [
    {
     "data": {
      "text/plain": [
       "array([3.8455918e-01, 4.9822792e-01, 4.7628990e-01, 4.5052966e-01,\n",
       "       4.1721350e-01, 3.6759216e-01, 3.7848479e-01, 1.9849935e-01,\n",
       "       3.7952873e-01, 4.2121306e-01, 3.8430339e-01, 4.6698073e-01,\n",
       "       3.8730460e-01, 3.0787596e-01, 4.9726984e-01, 4.9868900e-01,\n",
       "       4.3416819e-01, 4.7540012e-01, 3.8669421e-04, 2.8350821e-01,\n",
       "       7.4226901e-02, 2.0965613e-01, 4.8593679e-01, 3.6539626e-01,\n",
       "       3.3766490e-01, 3.9168704e-01], dtype=float32)"
      ]
     },
     "execution_count": 25,
     "metadata": {
      "tags": []
     },
     "output_type": "execute_result"
    }
   ],
   "source": [
    "ar_25_wrong"
   ]
  },
  {
   "cell_type": "code",
   "execution_count": 0,
   "metadata": {
    "colab": {},
    "colab_type": "code",
    "id": "LKbfnPnHBy0b"
   },
   "outputs": [],
   "source": [
    "# np.savez_compressed('ar_25_wrong_14Jun.npz', ar_25_wrong)"
   ]
  },
  {
   "cell_type": "code",
   "execution_count": 0,
   "metadata": {
    "colab": {},
    "colab_type": "code",
    "id": "4_w2g7u__Gdb"
   },
   "outputs": [],
   "source": [
    "df_25_wrong = df_25[ar_25_predictions<0.5]"
   ]
  },
  {
   "cell_type": "code",
   "execution_count": 0,
   "metadata": {
    "colab": {},
    "colab_type": "code",
    "id": "BuMVgmLTKD2F"
   },
   "outputs": [],
   "source": [
    "# df_25_wrong.to_csv('df_25_wrong.csv')"
   ]
  },
  {
   "cell_type": "code",
   "execution_count": 27,
   "metadata": {
    "colab": {
     "base_uri": "https://localhost:8080/",
     "height": 34
    },
    "colab_type": "code",
    "executionInfo": {
     "elapsed": 1121,
     "status": "ok",
     "timestamp": 1592248944149,
     "user": {
      "displayName": "Luke L",
      "photoUrl": "https://lh3.googleusercontent.com/a-/AOh14Gh2V6CcD-mvJZNcg0pcJrVX81wkXA0GyIYCyXlCCQ=s64",
      "userId": "10662023132727432683"
     },
     "user_tz": 420
    },
    "id": "Om9S1tfbx8oY",
    "outputId": "d88a63c6-28aa-490b-ebd0-2a7f2d3098d1"
   },
   "outputs": [
    {
     "data": {
      "text/plain": [
       "26"
      ]
     },
     "execution_count": 27,
     "metadata": {
      "tags": []
     },
     "output_type": "execute_result"
    }
   ],
   "source": [
    "len(ar_25_wrong)"
   ]
  },
  {
   "cell_type": "code",
   "execution_count": 0,
   "metadata": {
    "colab": {},
    "colab_type": "code",
    "id": "hpWvG5f1smYq"
   },
   "outputs": [],
   "source": [
    "sns.set_style('white')\n",
    "sns.set(rc={\"figure.figsize\": (8, 6)})\n",
    "ax = sns.distplot(ar_25_wrong, kde=False)\n",
    "ax.set_title(\"Miscatorized Nuclear Speckles\")"
   ]
  },
  {
   "cell_type": "code",
   "execution_count": 43,
   "metadata": {
    "colab": {
     "base_uri": "https://localhost:8080/",
     "height": 421
    },
    "colab_type": "code",
    "executionInfo": {
     "elapsed": 1188,
     "status": "ok",
     "timestamp": 1592250064353,
     "user": {
      "displayName": "Luke L",
      "photoUrl": "https://lh3.googleusercontent.com/a-/AOh14Gh2V6CcD-mvJZNcg0pcJrVX81wkXA0GyIYCyXlCCQ=s64",
      "userId": "10662023132727432683"
     },
     "user_tz": 420
    },
    "id": "L4qIPrr6v_dj",
    "outputId": "80a70aa9-cd47-4cc4-cb9c-b03857876fa4"
   },
   "outputs": [
    {
     "data": {
      "text/plain": [
       "Text(0.5, 1.0, 'Miscatagorized Cytosol')"
      ]
     },
     "execution_count": 43,
     "metadata": {
      "tags": []
     },
     "output_type": "execute_result"
    },
    {
     "data": {
      "image/png": "[encoded data removed]",
      "text/plain": [
       "<Figure size 432x432 with 1 Axes>"
      ]
     },
     "metadata": {
      "tags": []
     },
     "output_type": "display_data"
    }
   ],
   "source": [
    "sns.set_style('white')\n",
    "fig, ax = plt.subplots(figsize=(6,6))\n",
    "sns.distplot(ar_25_wrong, kde=False, axlabel= \"Probability Predictions\", ax= ax)\n",
    "ax.set_ylabel('Count')\n",
    "ax.set_title(\"Miscatagorized Cytosol\")"
   ]
  },
  {
   "cell_type": "code",
   "execution_count": 44,
   "metadata": {
    "colab": {
     "base_uri": "https://localhost:8080/",
     "height": 421
    },
    "colab_type": "code",
    "executionInfo": {
     "elapsed": 1143,
     "status": "ok",
     "timestamp": 1592250076763,
     "user": {
      "displayName": "Luke L",
      "photoUrl": "https://lh3.googleusercontent.com/a-/AOh14Gh2V6CcD-mvJZNcg0pcJrVX81wkXA0GyIYCyXlCCQ=s64",
      "userId": "10662023132727432683"
     },
     "user_tz": 420
    },
    "id": "XBKXGraZxHYs",
    "outputId": "26f611cd-6225-4bef-939e-877a1777b9a9"
   },
   "outputs": [
    {
     "data": {
      "text/plain": [
       "Text(0.5, 1.0, 'Miscatagorized Nuclear Speckles')"
      ]
     },
     "execution_count": 44,
     "metadata": {
      "tags": []
     },
     "output_type": "execute_result"
    },
    {
     "data": {
      "image/png": "[encoded data removed]",
      "text/plain": [
       "<Figure size 432x432 with 1 Axes>"
      ]
     },
     "metadata": {
      "tags": []
     },
     "output_type": "display_data"
    }
   ],
   "source": [
    "fig, ax = plt.subplots(figsize=(6,6))\n",
    "sns.distplot(ar_4_wrong, kde=False, axlabel= \"Probability Predictions\", ax= ax)\n",
    "ax.set_ylabel('Count')\n",
    "ax.set_title(\"Miscatagorized Nuclear Speckles\")"
   ]
  },
  {
   "cell_type": "code",
   "execution_count": 0,
   "metadata": {
    "colab": {},
    "colab_type": "code",
    "id": "eqGHxbYKxou8"
   },
   "outputs": [],
   "source": []
  },
  {
   "cell_type": "code",
   "execution_count": 0,
   "metadata": {
    "colab": {},
    "colab_type": "code",
    "id": "Ii1b3uBvDbeS"
   },
   "outputs": [],
   "source": [
    "ar_7_dict = np.load('arrays/ar_7.npz')"
   ]
  },
  {
   "cell_type": "code",
   "execution_count": 0,
   "metadata": {
    "colab": {},
    "colab_type": "code",
    "id": "Bv-j3rbVDbX3"
   },
   "outputs": [],
   "source": [
    "ar_7 = ar_7_dict['arr_0']"
   ]
  },
  {
   "cell_type": "code",
   "execution_count": 0,
   "metadata": {
    "colab": {
     "base_uri": "https://localhost:8080/",
     "height": 34
    },
    "colab_type": "code",
    "executionInfo": {
     "elapsed": 1250,
     "status": "ok",
     "timestamp": 1592175502572,
     "user": {
      "displayName": "Luke L",
      "photoUrl": "https://lh3.googleusercontent.com/a-/AOh14Gh2V6CcD-mvJZNcg0pcJrVX81wkXA0GyIYCyXlCCQ=s64",
      "userId": "10662023132727432683"
     },
     "user_tz": 420
    },
    "id": "k4ccH4ZBDbMx",
    "outputId": "93f50a35-8e7d-4df0-8395-f311723fe0c3"
   },
   "outputs": [
    {
     "data": {
      "text/plain": [
       "(1163, 224, 224, 3)"
      ]
     },
     "execution_count": 71,
     "metadata": {
      "tags": []
     },
     "output_type": "execute_result"
    }
   ],
   "source": [
    "ar_7.shape"
   ]
  },
  {
   "cell_type": "code",
   "execution_count": 0,
   "metadata": {
    "colab": {
     "base_uri": "https://localhost:8080/",
     "height": 34
    },
    "colab_type": "code",
    "executionInfo": {
     "elapsed": 3476,
     "status": "ok",
     "timestamp": 1592175536746,
     "user": {
      "displayName": "Luke L",
      "photoUrl": "https://lh3.googleusercontent.com/a-/AOh14Gh2V6CcD-mvJZNcg0pcJrVX81wkXA0GyIYCyXlCCQ=s64",
      "userId": "10662023132727432683"
     },
     "user_tz": 420
    },
    "id": "NGDcsbogDh04",
    "outputId": "c641c31d-44d9-4bc4-95eb-f938294d12c4"
   },
   "outputs": [
    {
     "data": {
      "text/plain": [
       "(1058, 224, 224, 3)"
      ]
     },
     "execution_count": 72,
     "metadata": {
      "tags": []
     },
     "output_type": "execute_result"
    }
   ],
   "source": [
    "ar_21_dict = np.load('arrays/ar_21.npz')\n",
    "ar_21 = ar_21_dict['arr_0']\n",
    "ar_21.shape"
   ]
  },
  {
   "cell_type": "code",
   "execution_count": 0,
   "metadata": {
    "colab": {},
    "colab_type": "code",
    "id": "CqSfEkMGDpyg"
   },
   "outputs": [],
   "source": [
    "X_train_2, X_test_2, y_train_2, y_test_2 = get_X_y_train_test_2(ar_7, ar_21)"
   ]
  },
  {
   "cell_type": "code",
   "execution_count": 0,
   "metadata": {
    "colab": {
     "base_uri": "https://localhost:8080/",
     "height": 1000
    },
    "colab_type": "code",
    "executionInfo": {
     "elapsed": 127161,
     "status": "ok",
     "timestamp": 1592175760998,
     "user": {
      "displayName": "Luke L",
      "photoUrl": "https://lh3.googleusercontent.com/a-/AOh14Gh2V6CcD-mvJZNcg0pcJrVX81wkXA0GyIYCyXlCCQ=s64",
      "userId": "10662023132727432683"
     },
     "user_tz": 420
    },
    "id": "ZImF0PjBD2UO",
    "outputId": "43a50fa8-b324-46d8-d80d-c912a332077d"
   },
   "outputs": [
    {
     "name": "stdout",
     "output_type": "stream",
     "text": [
      "Model: \"sequential_2\"\n",
      "_________________________________________________________________\n",
      "Layer (type)                 Output Shape              Param #   \n",
      "=================================================================\n",
      "conv2d_4 (Conv2D)            (None, 224, 224, 32)      896       \n",
      "_________________________________________________________________\n",
      "max_pooling2d_3 (MaxPooling2 (None, 112, 112, 32)      0         \n",
      "_________________________________________________________________\n",
      "conv2d_5 (Conv2D)            (None, 112, 112, 64)      18496     \n",
      "_________________________________________________________________\n",
      "max_pooling2d_4 (MaxPooling2 (None, 56, 56, 64)        0         \n",
      "_________________________________________________________________\n",
      "conv2d_6 (Conv2D)            (None, 56, 56, 128)       73856     \n",
      "_________________________________________________________________\n",
      "global_average_pooling2d_2 ( (None, 128)               0         \n",
      "_________________________________________________________________\n",
      "dense_3 (Dense)              (None, 128)               16512     \n",
      "_________________________________________________________________\n",
      "dropout_2 (Dropout)          (None, 128)               0         \n",
      "_________________________________________________________________\n",
      "dense_4 (Dense)              (None, 1)                 129       \n",
      "=================================================================\n",
      "Total params: 109,889\n",
      "Trainable params: 109,889\n",
      "Non-trainable params: 0\n",
      "_________________________________________________________________\n",
      "Train on 1248 samples, validate on 417 samples\n",
      "Epoch 1/100\n",
      "1248/1248 [==============================] - 2s 1ms/step - loss: 3.5142 - accuracy: 0.5585 - val_loss: 0.6576 - val_accuracy: 0.6715\n",
      "Epoch 2/100\n",
      "1248/1248 [==============================] - 2s 1ms/step - loss: 0.7202 - accuracy: 0.6178 - val_loss: 0.5925 - val_accuracy: 0.6882\n",
      "Epoch 3/100\n",
      "1248/1248 [==============================] - 2s 1ms/step - loss: 0.6173 - accuracy: 0.6747 - val_loss: 0.5571 - val_accuracy: 0.7242\n",
      "Epoch 4/100\n",
      "1248/1248 [==============================] - 2s 1ms/step - loss: 0.6047 - accuracy: 0.6995 - val_loss: 0.5658 - val_accuracy: 0.6930\n",
      "Epoch 5/100\n",
      "1248/1248 [==============================] - 2s 1ms/step - loss: 0.5797 - accuracy: 0.6963 - val_loss: 0.5284 - val_accuracy: 0.7410\n",
      "Epoch 6/100\n",
      "1248/1248 [==============================] - 2s 1ms/step - loss: 0.5764 - accuracy: 0.7091 - val_loss: 0.4858 - val_accuracy: 0.7866\n",
      "Epoch 7/100\n",
      "1248/1248 [==============================] - 2s 1ms/step - loss: 0.5270 - accuracy: 0.7316 - val_loss: 0.5043 - val_accuracy: 0.7410\n",
      "Epoch 8/100\n",
      "1248/1248 [==============================] - 2s 1ms/step - loss: 0.5093 - accuracy: 0.7524 - val_loss: 0.4710 - val_accuracy: 0.7962\n",
      "Epoch 9/100\n",
      "1248/1248 [==============================] - 2s 1ms/step - loss: 0.5145 - accuracy: 0.7612 - val_loss: 0.5220 - val_accuracy: 0.7338\n",
      "Epoch 10/100\n",
      "1248/1248 [==============================] - 2s 1ms/step - loss: 0.4890 - accuracy: 0.7636 - val_loss: 0.5403 - val_accuracy: 0.7242\n",
      "Epoch 11/100\n",
      "1248/1248 [==============================] - 2s 1ms/step - loss: 0.5396 - accuracy: 0.7292 - val_loss: 0.4713 - val_accuracy: 0.7938\n",
      "\n",
      "Epoch 00011: ReduceLROnPlateau reducing learning rate to 0.0005000000237487257.\n",
      "Epoch 12/100\n",
      "1248/1248 [==============================] - 2s 1ms/step - loss: 0.4794 - accuracy: 0.7732 - val_loss: 0.4711 - val_accuracy: 0.7674\n",
      "Epoch 13/100\n",
      "1248/1248 [==============================] - 2s 1ms/step - loss: 0.4658 - accuracy: 0.7837 - val_loss: 0.5419 - val_accuracy: 0.7122\n",
      "Epoch 14/100\n",
      "1248/1248 [==============================] - 2s 1ms/step - loss: 0.4631 - accuracy: 0.7861 - val_loss: 0.4323 - val_accuracy: 0.8034\n",
      "Epoch 15/100\n",
      "1248/1248 [==============================] - 2s 1ms/step - loss: 0.4304 - accuracy: 0.8069 - val_loss: 0.4257 - val_accuracy: 0.8106\n",
      "Epoch 16/100\n",
      "1248/1248 [==============================] - 2s 1ms/step - loss: 0.4365 - accuracy: 0.7933 - val_loss: 0.4385 - val_accuracy: 0.7938\n",
      "Epoch 17/100\n",
      "1248/1248 [==============================] - 2s 1ms/step - loss: 0.4375 - accuracy: 0.7997 - val_loss: 0.4448 - val_accuracy: 0.8225\n",
      "Epoch 18/100\n",
      "1248/1248 [==============================] - 2s 1ms/step - loss: 0.4220 - accuracy: 0.8077 - val_loss: 0.4318 - val_accuracy: 0.8106\n",
      "\n",
      "Epoch 00018: ReduceLROnPlateau reducing learning rate to 0.0002500000118743628.\n",
      "Epoch 19/100\n",
      "1248/1248 [==============================] - 2s 1ms/step - loss: 0.4145 - accuracy: 0.7989 - val_loss: 0.3999 - val_accuracy: 0.8106\n",
      "Epoch 20/100\n",
      "1248/1248 [==============================] - 2s 1ms/step - loss: 0.4100 - accuracy: 0.8077 - val_loss: 0.3975 - val_accuracy: 0.8225\n",
      "Epoch 21/100\n",
      "1248/1248 [==============================] - 2s 1ms/step - loss: 0.4039 - accuracy: 0.8149 - val_loss: 0.3946 - val_accuracy: 0.8225\n",
      "Epoch 22/100\n",
      "1248/1248 [==============================] - 2s 1ms/step - loss: 0.4205 - accuracy: 0.8029 - val_loss: 0.3939 - val_accuracy: 0.8249\n",
      "Epoch 23/100\n",
      "1248/1248 [==============================] - 2s 1ms/step - loss: 0.3978 - accuracy: 0.8149 - val_loss: 0.3902 - val_accuracy: 0.8225\n",
      "Epoch 24/100\n",
      "1248/1248 [==============================] - 2s 1ms/step - loss: 0.4124 - accuracy: 0.8013 - val_loss: 0.3908 - val_accuracy: 0.8201\n",
      "Epoch 25/100\n",
      "1248/1248 [==============================] - 2s 1ms/step - loss: 0.3882 - accuracy: 0.8149 - val_loss: 0.4198 - val_accuracy: 0.7938\n",
      "Epoch 26/100\n",
      "1248/1248 [==============================] - 2s 1ms/step - loss: 0.3961 - accuracy: 0.8141 - val_loss: 0.4004 - val_accuracy: 0.8082\n",
      "\n",
      "Epoch 00026: ReduceLROnPlateau reducing learning rate to 0.0001250000059371814.\n",
      "Epoch 27/100\n",
      "1248/1248 [==============================] - 2s 1ms/step - loss: 0.3794 - accuracy: 0.8221 - val_loss: 0.3797 - val_accuracy: 0.8393\n",
      "Epoch 28/100\n",
      "1248/1248 [==============================] - 2s 1ms/step - loss: 0.3851 - accuracy: 0.8205 - val_loss: 0.3808 - val_accuracy: 0.8273\n",
      "Epoch 29/100\n",
      "1248/1248 [==============================] - 2s 1ms/step - loss: 0.3777 - accuracy: 0.8197 - val_loss: 0.3810 - val_accuracy: 0.8225\n",
      "Epoch 30/100\n",
      "1248/1248 [==============================] - 2s 1ms/step - loss: 0.3669 - accuracy: 0.8301 - val_loss: 0.3687 - val_accuracy: 0.8321\n",
      "Epoch 31/100\n",
      "1248/1248 [==============================] - 2s 1ms/step - loss: 0.3719 - accuracy: 0.8317 - val_loss: 0.3673 - val_accuracy: 0.8489\n",
      "Epoch 32/100\n",
      "1248/1248 [==============================] - 2s 1ms/step - loss: 0.3653 - accuracy: 0.8373 - val_loss: 0.3703 - val_accuracy: 0.8369\n",
      "Epoch 33/100\n",
      "1248/1248 [==============================] - 2s 1ms/step - loss: 0.3702 - accuracy: 0.8237 - val_loss: 0.3689 - val_accuracy: 0.8465\n",
      "Epoch 34/100\n",
      "1248/1248 [==============================] - 2s 1ms/step - loss: 0.3644 - accuracy: 0.8341 - val_loss: 0.3776 - val_accuracy: 0.8177\n",
      "\n",
      "Epoch 00034: ReduceLROnPlateau reducing learning rate to 6.25000029685907e-05.\n",
      "Epoch 35/100\n",
      "1248/1248 [==============================] - 2s 1ms/step - loss: 0.3584 - accuracy: 0.8333 - val_loss: 0.3594 - val_accuracy: 0.8489\n",
      "Epoch 36/100\n",
      "1248/1248 [==============================] - 2s 1ms/step - loss: 0.3526 - accuracy: 0.8454 - val_loss: 0.3691 - val_accuracy: 0.8297\n",
      "Epoch 37/100\n",
      "1248/1248 [==============================] - 2s 1ms/step - loss: 0.3622 - accuracy: 0.8285 - val_loss: 0.3605 - val_accuracy: 0.8441\n",
      "Epoch 38/100\n",
      "1248/1248 [==============================] - 2s 1ms/step - loss: 0.3537 - accuracy: 0.8373 - val_loss: 0.3560 - val_accuracy: 0.8417\n",
      "Epoch 39/100\n",
      "1248/1248 [==============================] - 2s 1ms/step - loss: 0.3513 - accuracy: 0.8389 - val_loss: 0.3589 - val_accuracy: 0.8489\n",
      "Epoch 40/100\n",
      "1248/1248 [==============================] - 2s 1ms/step - loss: 0.3536 - accuracy: 0.8389 - val_loss: 0.3582 - val_accuracy: 0.8513\n",
      "Epoch 41/100\n",
      "1248/1248 [==============================] - 2s 1ms/step - loss: 0.3605 - accuracy: 0.8421 - val_loss: 0.3583 - val_accuracy: 0.8441\n",
      "\n",
      "Epoch 00041: ReduceLROnPlateau reducing learning rate to 3.125000148429535e-05.\n",
      "Epoch 42/100\n",
      "1248/1248 [==============================] - 2s 1ms/step - loss: 0.3553 - accuracy: 0.8381 - val_loss: 0.3538 - val_accuracy: 0.8537\n",
      "Epoch 43/100\n",
      "1248/1248 [==============================] - 2s 1ms/step - loss: 0.3441 - accuracy: 0.8349 - val_loss: 0.3516 - val_accuracy: 0.8513\n",
      "Epoch 44/100\n",
      "1248/1248 [==============================] - 2s 1ms/step - loss: 0.3514 - accuracy: 0.8413 - val_loss: 0.3560 - val_accuracy: 0.8513\n",
      "Epoch 45/100\n",
      "1248/1248 [==============================] - 2s 1ms/step - loss: 0.3443 - accuracy: 0.8397 - val_loss: 0.3505 - val_accuracy: 0.8417\n",
      "Epoch 46/100\n",
      "1248/1248 [==============================] - 2s 1ms/step - loss: 0.3437 - accuracy: 0.8421 - val_loss: 0.3517 - val_accuracy: 0.8489\n",
      "Epoch 47/100\n",
      "1248/1248 [==============================] - 2s 1ms/step - loss: 0.3419 - accuracy: 0.8446 - val_loss: 0.3503 - val_accuracy: 0.8489\n",
      "Epoch 48/100\n",
      "1248/1248 [==============================] - 2s 1ms/step - loss: 0.3453 - accuracy: 0.8454 - val_loss: 0.3492 - val_accuracy: 0.8537\n",
      "Epoch 49/100\n",
      "1248/1248 [==============================] - 2s 1ms/step - loss: 0.3433 - accuracy: 0.8413 - val_loss: 0.3501 - val_accuracy: 0.8561\n",
      "Epoch 50/100\n",
      "1248/1248 [==============================] - 2s 1ms/step - loss: 0.3439 - accuracy: 0.8421 - val_loss: 0.3490 - val_accuracy: 0.8465\n",
      "Epoch 51/100\n",
      "1248/1248 [==============================] - 2s 1ms/step - loss: 0.3469 - accuracy: 0.8421 - val_loss: 0.3547 - val_accuracy: 0.8513\n",
      "Epoch 52/100\n",
      "1248/1248 [==============================] - 2s 1ms/step - loss: 0.3444 - accuracy: 0.8421 - val_loss: 0.3476 - val_accuracy: 0.8465\n",
      "Epoch 53/100\n",
      "1248/1248 [==============================] - 2s 1ms/step - loss: 0.3417 - accuracy: 0.8429 - val_loss: 0.3483 - val_accuracy: 0.8513\n",
      "Epoch 54/100\n",
      "1248/1248 [==============================] - 2s 1ms/step - loss: 0.3399 - accuracy: 0.8550 - val_loss: 0.3462 - val_accuracy: 0.8513\n",
      "Epoch 55/100\n",
      "1248/1248 [==============================] - 2s 1ms/step - loss: 0.3457 - accuracy: 0.8397 - val_loss: 0.3701 - val_accuracy: 0.8249\n",
      "Epoch 56/100\n",
      "1248/1248 [==============================] - 2s 1ms/step - loss: 0.3420 - accuracy: 0.8438 - val_loss: 0.3452 - val_accuracy: 0.8537\n",
      "Epoch 57/100\n",
      "1248/1248 [==============================] - 2s 1ms/step - loss: 0.3321 - accuracy: 0.8397 - val_loss: 0.3456 - val_accuracy: 0.8489\n",
      "Epoch 58/100\n",
      "1248/1248 [==============================] - 2s 1ms/step - loss: 0.3396 - accuracy: 0.8405 - val_loss: 0.3590 - val_accuracy: 0.8369\n",
      "Epoch 59/100\n",
      "1248/1248 [==============================] - 2s 1ms/step - loss: 0.3428 - accuracy: 0.8478 - val_loss: 0.3456 - val_accuracy: 0.8537\n",
      "\n",
      "Epoch 00059: ReduceLROnPlateau reducing learning rate to 1.5625000742147677e-05.\n",
      "Epoch 60/100\n",
      "1248/1248 [==============================] - 2s 1ms/step - loss: 0.3412 - accuracy: 0.8405 - val_loss: 0.3439 - val_accuracy: 0.8537\n",
      "Epoch 61/100\n",
      "1248/1248 [==============================] - 2s 1ms/step - loss: 0.3342 - accuracy: 0.8542 - val_loss: 0.3427 - val_accuracy: 0.8513\n",
      "Epoch 62/100\n",
      "1248/1248 [==============================] - 2s 1ms/step - loss: 0.3312 - accuracy: 0.8462 - val_loss: 0.3427 - val_accuracy: 0.8537\n",
      "Epoch 63/100\n",
      "1248/1248 [==============================] - 2s 1ms/step - loss: 0.3341 - accuracy: 0.8558 - val_loss: 0.3471 - val_accuracy: 0.8561\n",
      "Epoch 64/100\n",
      "1248/1248 [==============================] - 2s 1ms/step - loss: 0.3366 - accuracy: 0.8429 - val_loss: 0.3462 - val_accuracy: 0.8537\n",
      "\n",
      "Epoch 00064: ReduceLROnPlateau reducing learning rate to 7.812500371073838e-06.\n",
      "Epoch 65/100\n",
      "1248/1248 [==============================] - 2s 1ms/step - loss: 0.3348 - accuracy: 0.8478 - val_loss: 0.3427 - val_accuracy: 0.8513\n",
      "Epoch 66/100\n",
      "1248/1248 [==============================] - 2s 1ms/step - loss: 0.3328 - accuracy: 0.8494 - val_loss: 0.3442 - val_accuracy: 0.8585\n",
      "Epoch 67/100\n",
      "1248/1248 [==============================] - 2s 1ms/step - loss: 0.3269 - accuracy: 0.8510 - val_loss: 0.3417 - val_accuracy: 0.8513\n",
      "Epoch 68/100\n",
      "1248/1248 [==============================] - 2s 1ms/step - loss: 0.3334 - accuracy: 0.8566 - val_loss: 0.3416 - val_accuracy: 0.8489\n",
      "Epoch 69/100\n",
      "1248/1248 [==============================] - 2s 1ms/step - loss: 0.3339 - accuracy: 0.8486 - val_loss: 0.3421 - val_accuracy: 0.8561\n",
      "Epoch 70/100\n",
      "1248/1248 [==============================] - 2s 1ms/step - loss: 0.3305 - accuracy: 0.8494 - val_loss: 0.3437 - val_accuracy: 0.8561\n",
      "Epoch 71/100\n",
      "1248/1248 [==============================] - 2s 1ms/step - loss: 0.3392 - accuracy: 0.8494 - val_loss: 0.3419 - val_accuracy: 0.8561\n",
      "\n",
      "Epoch 00071: ReduceLROnPlateau reducing learning rate to 3.906250185536919e-06.\n",
      "Epoch 72/100\n",
      "1248/1248 [==============================] - 2s 1ms/step - loss: 0.3283 - accuracy: 0.8558 - val_loss: 0.3414 - val_accuracy: 0.8561\n",
      "Epoch 73/100\n",
      "1248/1248 [==============================] - 2s 1ms/step - loss: 0.3325 - accuracy: 0.8478 - val_loss: 0.3416 - val_accuracy: 0.8561\n",
      "Epoch 74/100\n",
      "1248/1248 [==============================] - 2s 1ms/step - loss: 0.3248 - accuracy: 0.8526 - val_loss: 0.3423 - val_accuracy: 0.8537\n",
      "Epoch 75/100\n",
      "1248/1248 [==============================] - 2s 1ms/step - loss: 0.3306 - accuracy: 0.8518 - val_loss: 0.3418 - val_accuracy: 0.8513\n",
      "\n",
      "Epoch 00075: ReduceLROnPlateau reducing learning rate to 1.9531250927684596e-06.\n",
      "Epoch 76/100\n",
      "1248/1248 [==============================] - 2s 1ms/step - loss: 0.3296 - accuracy: 0.8558 - val_loss: 0.3420 - val_accuracy: 0.8537\n",
      "Epoch 77/100\n",
      "1248/1248 [==============================] - 2s 1ms/step - loss: 0.3325 - accuracy: 0.8502 - val_loss: 0.3415 - val_accuracy: 0.8537\n",
      "Epoch 78/100\n",
      "1248/1248 [==============================] - 2s 1ms/step - loss: 0.3273 - accuracy: 0.8542 - val_loss: 0.3419 - val_accuracy: 0.8537\n",
      "\n",
      "Epoch 00078: ReduceLROnPlateau reducing learning rate to 9.765625463842298e-07.\n",
      "Epoch 79/100\n",
      "1248/1248 [==============================] - 2s 1ms/step - loss: 0.3327 - accuracy: 0.8494 - val_loss: 0.3416 - val_accuracy: 0.8537\n",
      "Epoch 80/100\n",
      "1248/1248 [==============================] - 2s 1ms/step - loss: 0.3294 - accuracy: 0.8438 - val_loss: 0.3416 - val_accuracy: 0.8537\n",
      "Restoring model weights from the end of the best epoch\n",
      "Epoch 00080: early stopping\n",
      "\n",
      "Metrics on train\n",
      "Accuracy Score:  0.8522522522522522\n",
      "Precision Score:  0.8721088435374149\n",
      "Recall Score:  0.8083228247162674\n",
      "F1 Score:  0.8390052356020943\n",
      "\n",
      "Metrics on test\n",
      "Accuracy Score:  0.8758992805755396\n",
      "Precision Score:  0.892\n",
      "Recall Score:  0.8415094339622642\n",
      "F1 Score:  0.8660194174757283\n"
     ]
    },
    {
     "data": {
      "image/png": "[encoded data removed]",
      "text/plain": [
       "<Figure size 1200x900 with 2 Axes>"
      ]
     },
     "metadata": {
      "tags": []
     },
     "output_type": "display_data"
    },
    {
     "data": {
      "image/png": "[encoded data removed]",
      "text/plain": [
       "<Figure size 1200x900 with 2 Axes>"
      ]
     },
     "metadata": {
      "tags": []
     },
     "output_type": "display_data"
    }
   ],
   "source": [
    "model_test_7 = run_CNN_5(X_train_2, X_test_2, y_train_2, y_test_2, epochs=100)"
   ]
  },
  {
   "cell_type": "code",
   "execution_count": 0,
   "metadata": {
    "colab": {},
    "colab_type": "code",
    "id": "By3iByynECV4"
   },
   "outputs": [],
   "source": [
    "ar_7_predictions = model_test_7.predict_proba(ar_7)"
   ]
  },
  {
   "cell_type": "code",
   "execution_count": 0,
   "metadata": {
    "colab": {},
    "colab_type": "code",
    "id": "deuFMmc6FWQG"
   },
   "outputs": [],
   "source": [
    "ar_7_wrong = ar_7_predictions[ar_7_predictions>0.5]"
   ]
  },
  {
   "cell_type": "code",
   "execution_count": 0,
   "metadata": {
    "colab": {},
    "colab_type": "code",
    "id": "69pFnoqoE0Lx"
   },
   "outputs": [],
   "source": [
    "np.savez_compressed('ar_7_predictions_14Jun.npz', ar_7_predictions)"
   ]
  },
  {
   "cell_type": "code",
   "execution_count": 0,
   "metadata": {
    "colab": {},
    "colab_type": "code",
    "id": "vY0B_yx3E-rA"
   },
   "outputs": [],
   "source": [
    "ar_21_predictions = model_test_7.predict_proba(ar_21)\n",
    "np.savez_compressed('ar_21_predictions_14Jun.npz', ar_21_predictions)"
   ]
  },
  {
   "cell_type": "code",
   "execution_count": 0,
   "metadata": {
    "colab": {},
    "colab_type": "code",
    "id": "R6GlHGCdFMF5"
   },
   "outputs": [],
   "source": [
    "ar_21_wrong = ar_21_predictions[ar_21_predictions<0.5]"
   ]
  },
  {
   "cell_type": "code",
   "execution_count": 0,
   "metadata": {
    "colab": {
     "base_uri": "https://localhost:8080/",
     "height": 427
    },
    "colab_type": "code",
    "executionInfo": {
     "elapsed": 1177,
     "status": "ok",
     "timestamp": 1592176404623,
     "user": {
      "displayName": "Luke L",
      "photoUrl": "https://lh3.googleusercontent.com/a-/AOh14Gh2V6CcD-mvJZNcg0pcJrVX81wkXA0GyIYCyXlCCQ=s64",
      "userId": "10662023132727432683"
     },
     "user_tz": 420
    },
    "id": "soF-s-VNF1Q5",
    "outputId": "4836867e-85ca-4981-bd23-6e03d8ff87b6"
   },
   "outputs": [
    {
     "data": {
      "text/plain": [
       "Text(0.5, 1.0, 'Miscatagorized Golgi Apparatus')"
      ]
     },
     "execution_count": 83,
     "metadata": {
      "tags": []
     },
     "output_type": "execute_result"
    },
    {
     "data": {
      "image/png": "[encoded data removed]",
      "text/plain": [
       "<Figure size 576x432 with 1 Axes>"
      ]
     },
     "metadata": {
      "tags": []
     },
     "output_type": "display_data"
    }
   ],
   "source": [
    "fig, ax = plt.subplots(figsize=(8,6))\n",
    "sns.distplot(ar_7_wrong, kde=False, axlabel= \"Probability Predictions\", ax= ax)\n",
    "ax.set_ylabel('Count')\n",
    "ax.set_title(\"Miscatagorized Golgi Apparatus\")"
   ]
  },
  {
   "cell_type": "code",
   "execution_count": 0,
   "metadata": {
    "colab": {
     "base_uri": "https://localhost:8080/",
     "height": 427
    },
    "colab_type": "code",
    "executionInfo": {
     "elapsed": 1164,
     "status": "ok",
     "timestamp": 1592176416459,
     "user": {
      "displayName": "Luke L",
      "photoUrl": "https://lh3.googleusercontent.com/a-/AOh14Gh2V6CcD-mvJZNcg0pcJrVX81wkXA0GyIYCyXlCCQ=s64",
      "userId": "10662023132727432683"
     },
     "user_tz": 420
    },
    "id": "IFbofL-oF9zR",
    "outputId": "71eb589a-8203-4e8c-be66-6ef19a0868ca"
   },
   "outputs": [
    {
     "data": {
      "text/plain": [
       "Text(0.5, 1.0, 'Miscatagorized Plasma Membrane')"
      ]
     },
     "execution_count": 84,
     "metadata": {
      "tags": []
     },
     "output_type": "execute_result"
    },
    {
     "data": {
      "image/png": "[encoded data removed]",
      "text/plain": [
       "<Figure size 576x432 with 1 Axes>"
      ]
     },
     "metadata": {
      "tags": []
     },
     "output_type": "display_data"
    }
   ],
   "source": [
    "fig, ax = plt.subplots(figsize=(8,6))\n",
    "sns.distplot(ar_21_wrong, kde=False, axlabel= \"Probability Predictions\", ax= ax)\n",
    "ax.set_ylabel('Count')\n",
    "ax.set_title(\"Miscatagorized Plasma Membrane\")"
   ]
  },
  {
   "cell_type": "code",
   "execution_count": 0,
   "metadata": {
    "colab": {},
    "colab_type": "code",
    "id": "gr-s3S4YGAWZ"
   },
   "outputs": [],
   "source": []
  },
  {
   "cell_type": "code",
   "execution_count": 0,
   "metadata": {
    "colab": {},
    "colab_type": "code",
    "id": "2tNxit-nHVhX"
   },
   "outputs": [],
   "source": []
  },
  {
   "cell_type": "code",
   "execution_count": 0,
   "metadata": {
    "colab": {},
    "colab_type": "code",
    "id": "AWQ99kdsHWKL"
   },
   "outputs": [],
   "source": [
    "X_train_3, X_test_3, y_train_3, y_test_3 = get_X_y_train_test_2(ar_4, ar_7)"
   ]
  },
  {
   "cell_type": "code",
   "execution_count": 0,
   "metadata": {
    "colab": {
     "base_uri": "https://localhost:8080/",
     "height": 1000
    },
    "colab_type": "code",
    "executionInfo": {
     "elapsed": 82269,
     "status": "ok",
     "timestamp": 1592176626171,
     "user": {
      "displayName": "Luke L",
      "photoUrl": "https://lh3.googleusercontent.com/a-/AOh14Gh2V6CcD-mvJZNcg0pcJrVX81wkXA0GyIYCyXlCCQ=s64",
      "userId": "10662023132727432683"
     },
     "user_tz": 420
    },
    "id": "E5MfmI2IHaSr",
    "outputId": "dc4bf812-3e0b-4501-ed70-13d98b9ecedf"
   },
   "outputs": [
    {
     "name": "stdout",
     "output_type": "stream",
     "text": [
      "Model: \"sequential_3\"\n",
      "_________________________________________________________________\n",
      "Layer (type)                 Output Shape              Param #   \n",
      "=================================================================\n",
      "conv2d_7 (Conv2D)            (None, 224, 224, 32)      896       \n",
      "_________________________________________________________________\n",
      "max_pooling2d_5 (MaxPooling2 (None, 112, 112, 32)      0         \n",
      "_________________________________________________________________\n",
      "conv2d_8 (Conv2D)            (None, 112, 112, 64)      18496     \n",
      "_________________________________________________________________\n",
      "max_pooling2d_6 (MaxPooling2 (None, 56, 56, 64)        0         \n",
      "_________________________________________________________________\n",
      "conv2d_9 (Conv2D)            (None, 56, 56, 128)       73856     \n",
      "_________________________________________________________________\n",
      "global_average_pooling2d_3 ( (None, 128)               0         \n",
      "_________________________________________________________________\n",
      "dense_5 (Dense)              (None, 128)               16512     \n",
      "_________________________________________________________________\n",
      "dropout_3 (Dropout)          (None, 128)               0         \n",
      "_________________________________________________________________\n",
      "dense_6 (Dense)              (None, 1)                 129       \n",
      "=================================================================\n",
      "Total params: 109,889\n",
      "Trainable params: 109,889\n",
      "Non-trainable params: 0\n",
      "_________________________________________________________________\n",
      "Train on 1260 samples, validate on 420 samples\n",
      "Epoch 1/100\n",
      "1260/1260 [==============================] - 2s 1ms/step - loss: 2.6671 - accuracy: 0.5468 - val_loss: 0.5430 - val_accuracy: 0.7286\n",
      "Epoch 2/100\n",
      "1260/1260 [==============================] - 2s 1ms/step - loss: 0.7346 - accuracy: 0.6214 - val_loss: 0.6125 - val_accuracy: 0.6952\n",
      "Epoch 3/100\n",
      "1260/1260 [==============================] - 2s 1ms/step - loss: 0.5920 - accuracy: 0.6913 - val_loss: 0.5294 - val_accuracy: 0.7500\n",
      "Epoch 4/100\n",
      "1260/1260 [==============================] - 2s 1ms/step - loss: 0.5632 - accuracy: 0.7183 - val_loss: 0.5325 - val_accuracy: 0.7500\n",
      "Epoch 5/100\n",
      "1260/1260 [==============================] - 2s 1ms/step - loss: 0.5803 - accuracy: 0.6913 - val_loss: 0.5191 - val_accuracy: 0.7714\n",
      "Epoch 6/100\n",
      "1260/1260 [==============================] - 2s 1ms/step - loss: 0.5431 - accuracy: 0.7183 - val_loss: 0.5270 - val_accuracy: 0.7500\n",
      "Epoch 7/100\n",
      "1260/1260 [==============================] - 2s 1ms/step - loss: 0.5038 - accuracy: 0.7548 - val_loss: 0.4923 - val_accuracy: 0.7810\n",
      "Epoch 8/100\n",
      "1260/1260 [==============================] - 2s 1ms/step - loss: 0.4760 - accuracy: 0.7667 - val_loss: 0.4906 - val_accuracy: 0.7833\n",
      "Epoch 9/100\n",
      "1260/1260 [==============================] - 2s 1ms/step - loss: 0.4477 - accuracy: 0.7976 - val_loss: 0.4250 - val_accuracy: 0.8143\n",
      "Epoch 10/100\n",
      "1260/1260 [==============================] - 2s 1ms/step - loss: 0.4456 - accuracy: 0.7968 - val_loss: 0.4173 - val_accuracy: 0.8214\n",
      "Epoch 11/100\n",
      "1260/1260 [==============================] - 2s 1ms/step - loss: 0.4049 - accuracy: 0.8262 - val_loss: 0.3982 - val_accuracy: 0.8286\n",
      "Epoch 12/100\n",
      "1260/1260 [==============================] - 2s 1ms/step - loss: 0.3816 - accuracy: 0.8405 - val_loss: 0.3574 - val_accuracy: 0.8643\n",
      "Epoch 13/100\n",
      "1260/1260 [==============================] - 2s 1ms/step - loss: 0.3829 - accuracy: 0.8286 - val_loss: 0.3549 - val_accuracy: 0.8595\n",
      "Epoch 14/100\n",
      "1260/1260 [==============================] - 2s 1ms/step - loss: 0.3517 - accuracy: 0.8587 - val_loss: 0.3956 - val_accuracy: 0.8262\n",
      "Epoch 15/100\n",
      "1260/1260 [==============================] - 2s 1ms/step - loss: 0.3739 - accuracy: 0.8405 - val_loss: 0.3194 - val_accuracy: 0.8762\n",
      "Epoch 16/100\n",
      "1260/1260 [==============================] - 2s 1ms/step - loss: 0.3406 - accuracy: 0.8548 - val_loss: 0.3579 - val_accuracy: 0.8619\n",
      "Epoch 17/100\n",
      "1260/1260 [==============================] - 2s 1ms/step - loss: 0.3369 - accuracy: 0.8548 - val_loss: 0.3342 - val_accuracy: 0.8595\n",
      "Epoch 18/100\n",
      "1260/1260 [==============================] - 2s 1ms/step - loss: 0.3243 - accuracy: 0.8659 - val_loss: 0.3126 - val_accuracy: 0.8738\n",
      "Epoch 19/100\n",
      "1260/1260 [==============================] - 2s 1ms/step - loss: 0.2978 - accuracy: 0.8802 - val_loss: 0.3137 - val_accuracy: 0.8690\n",
      "Epoch 20/100\n",
      "1260/1260 [==============================] - 2s 1ms/step - loss: 0.2969 - accuracy: 0.8706 - val_loss: 0.2911 - val_accuracy: 0.8905\n",
      "Epoch 21/100\n",
      "1260/1260 [==============================] - 2s 1ms/step - loss: 0.2971 - accuracy: 0.8762 - val_loss: 0.3487 - val_accuracy: 0.8429\n",
      "Epoch 22/100\n",
      "1260/1260 [==============================] - 2s 1ms/step - loss: 0.2790 - accuracy: 0.8849 - val_loss: 0.2940 - val_accuracy: 0.8810\n",
      "Epoch 23/100\n",
      "1260/1260 [==============================] - 2s 1ms/step - loss: 0.3049 - accuracy: 0.8722 - val_loss: 0.2780 - val_accuracy: 0.8881\n",
      "Epoch 24/100\n",
      "1260/1260 [==============================] - 2s 1ms/step - loss: 0.2784 - accuracy: 0.8865 - val_loss: 0.2792 - val_accuracy: 0.9024\n",
      "Epoch 25/100\n",
      "1260/1260 [==============================] - 2s 1ms/step - loss: 0.2716 - accuracy: 0.8905 - val_loss: 0.2877 - val_accuracy: 0.8810\n",
      "Epoch 26/100\n",
      "1260/1260 [==============================] - 2s 1ms/step - loss: 0.3044 - accuracy: 0.8643 - val_loss: 0.2909 - val_accuracy: 0.8714\n",
      "\n",
      "Epoch 00026: ReduceLROnPlateau reducing learning rate to 0.0005000000237487257.\n",
      "Epoch 27/100\n",
      "1260/1260 [==============================] - 2s 1ms/step - loss: 0.2455 - accuracy: 0.9000 - val_loss: 0.2653 - val_accuracy: 0.8881\n",
      "Epoch 28/100\n",
      "1260/1260 [==============================] - 2s 1ms/step - loss: 0.2312 - accuracy: 0.9024 - val_loss: 0.2662 - val_accuracy: 0.8976\n",
      "Epoch 29/100\n",
      "1260/1260 [==============================] - 2s 1ms/step - loss: 0.2387 - accuracy: 0.9063 - val_loss: 0.2610 - val_accuracy: 0.9000\n",
      "Epoch 30/100\n",
      "1260/1260 [==============================] - 2s 1ms/step - loss: 0.2299 - accuracy: 0.9087 - val_loss: 0.2582 - val_accuracy: 0.8952\n",
      "Epoch 31/100\n",
      "1260/1260 [==============================] - 2s 1ms/step - loss: 0.2231 - accuracy: 0.9087 - val_loss: 0.2626 - val_accuracy: 0.8976\n",
      "Epoch 32/100\n",
      "1260/1260 [==============================] - 2s 1ms/step - loss: 0.2148 - accuracy: 0.9198 - val_loss: 0.2598 - val_accuracy: 0.8976\n",
      "Epoch 33/100\n",
      "1260/1260 [==============================] - 2s 1ms/step - loss: 0.2285 - accuracy: 0.9111 - val_loss: 0.2720 - val_accuracy: 0.9000\n",
      "\n",
      "Epoch 00033: ReduceLROnPlateau reducing learning rate to 0.0002500000118743628.\n",
      "Epoch 34/100\n",
      "1260/1260 [==============================] - 2s 1ms/step - loss: 0.2129 - accuracy: 0.9206 - val_loss: 0.2526 - val_accuracy: 0.8976\n",
      "Epoch 35/100\n",
      "1260/1260 [==============================] - 2s 1ms/step - loss: 0.2077 - accuracy: 0.9238 - val_loss: 0.2987 - val_accuracy: 0.8929\n",
      "Epoch 36/100\n",
      "1260/1260 [==============================] - 2s 1ms/step - loss: 0.2324 - accuracy: 0.9087 - val_loss: 0.2689 - val_accuracy: 0.9048\n",
      "Epoch 37/100\n",
      "1260/1260 [==============================] - 2s 1ms/step - loss: 0.2109 - accuracy: 0.9167 - val_loss: 0.2481 - val_accuracy: 0.9000\n",
      "Epoch 38/100\n",
      "1260/1260 [==============================] - 2s 1ms/step - loss: 0.1980 - accuracy: 0.9238 - val_loss: 0.2589 - val_accuracy: 0.9024\n",
      "Epoch 39/100\n",
      "1260/1260 [==============================] - 2s 1ms/step - loss: 0.2047 - accuracy: 0.9222 - val_loss: 0.2506 - val_accuracy: 0.8976\n",
      "Epoch 40/100\n",
      "1260/1260 [==============================] - 2s 1ms/step - loss: 0.2097 - accuracy: 0.9175 - val_loss: 0.2843 - val_accuracy: 0.8929\n",
      "\n",
      "Epoch 00040: ReduceLROnPlateau reducing learning rate to 0.0001250000059371814.\n",
      "Epoch 41/100\n",
      "1260/1260 [==============================] - 2s 1ms/step - loss: 0.2030 - accuracy: 0.9230 - val_loss: 0.2445 - val_accuracy: 0.9095\n",
      "Epoch 42/100\n",
      "1260/1260 [==============================] - 2s 1ms/step - loss: 0.1844 - accuracy: 0.9286 - val_loss: 0.2496 - val_accuracy: 0.8976\n",
      "Epoch 43/100\n",
      "1260/1260 [==============================] - 2s 1ms/step - loss: 0.1856 - accuracy: 0.9262 - val_loss: 0.2458 - val_accuracy: 0.9071\n",
      "Epoch 44/100\n",
      "1260/1260 [==============================] - 2s 1ms/step - loss: 0.1921 - accuracy: 0.9294 - val_loss: 0.2449 - val_accuracy: 0.9048\n",
      "\n",
      "Epoch 00044: ReduceLROnPlateau reducing learning rate to 6.25000029685907e-05.\n",
      "Epoch 45/100\n",
      "1260/1260 [==============================] - 2s 1ms/step - loss: 0.1832 - accuracy: 0.9286 - val_loss: 0.2578 - val_accuracy: 0.9000\n",
      "Epoch 46/100\n",
      "1260/1260 [==============================] - 2s 1ms/step - loss: 0.1891 - accuracy: 0.9270 - val_loss: 0.2562 - val_accuracy: 0.9000\n",
      "Epoch 47/100\n",
      "1260/1260 [==============================] - 2s 1ms/step - loss: 0.1818 - accuracy: 0.9278 - val_loss: 0.2525 - val_accuracy: 0.9024\n",
      "\n",
      "Epoch 00047: ReduceLROnPlateau reducing learning rate to 3.125000148429535e-05.\n",
      "Epoch 48/100\n",
      "1260/1260 [==============================] - 2s 1ms/step - loss: 0.1798 - accuracy: 0.9286 - val_loss: 0.2464 - val_accuracy: 0.9048\n",
      "Epoch 49/100\n",
      "1260/1260 [==============================] - 2s 1ms/step - loss: 0.1797 - accuracy: 0.9286 - val_loss: 0.2526 - val_accuracy: 0.9024\n",
      "Restoring model weights from the end of the best epoch\n",
      "Epoch 00049: early stopping\n",
      "\n",
      "Metrics on train\n",
      "Accuracy Score:  0.925\n",
      "Precision Score:  0.8951271186440678\n",
      "Recall Score:  0.9690366972477065\n",
      "F1 Score:  0.9306167400881058\n",
      "\n",
      "Metrics on test\n",
      "Accuracy Score:  0.9\n",
      "Precision Score:  0.8778135048231511\n",
      "Recall Score:  0.9381443298969072\n",
      "F1 Score:  0.9069767441860463\n"
     ]
    },
    {
     "data": {
      "image/png": "[encoded data removed]",
      "text/plain": [
       "<Figure size 1200x900 with 2 Axes>"
      ]
     },
     "metadata": {
      "tags": []
     },
     "output_type": "display_data"
    },
    {
     "data": {
      "image/png": "[encoded data removed]",
      "text/plain": [
       "<Figure size 1200x900 with 2 Axes>"
      ]
     },
     "metadata": {
      "tags": []
     },
     "output_type": "display_data"
    }
   ],
   "source": [
    "model_test_8 = run_CNN_5(X_train_3, X_test_3, y_train_3, y_test_3, epochs=100)"
   ]
  },
  {
   "cell_type": "code",
   "execution_count": 0,
   "metadata": {
    "colab": {},
    "colab_type": "code",
    "id": "LqZPgT8uIBCB"
   },
   "outputs": [],
   "source": []
  },
  {
   "cell_type": "code",
   "execution_count": 0,
   "metadata": {
    "colab": {},
    "colab_type": "code",
    "id": "u9gyarCNHgha"
   },
   "outputs": [],
   "source": [
    "ar_4_w_7_predictions = model_test_8.predict_proba(ar_4)\n",
    "np.savez_compressed('ar_4_w_7_predictions_14Jun.npz', ar_4_w_7_predictions)\n",
    "ar_4_7_wrong = ar_4_w_7_predictions[ar_4_w_7_predictions>0.5]\n"
   ]
  },
  {
   "cell_type": "code",
   "execution_count": 0,
   "metadata": {
    "colab": {},
    "colab_type": "code",
    "id": "bG7GcaS2Iitq"
   },
   "outputs": [],
   "source": [
    "ar_7_w_4_predictions = model_test_8.predict_proba(ar_7)\n",
    "np.savez_compressed('ar_7_w_4_predictions_14Jun.npz', ar_7_w_4_predictions)\n",
    "ar_7_4_wrong = ar_7_w_4_predictions[ar_7_w_4_predictions<0.5]\n"
   ]
  },
  {
   "cell_type": "code",
   "execution_count": 0,
   "metadata": {
    "colab": {
     "base_uri": "https://localhost:8080/",
     "height": 427
    },
    "colab_type": "code",
    "executionInfo": {
     "elapsed": 1428,
     "status": "ok",
     "timestamp": 1592176915265,
     "user": {
      "displayName": "Luke L",
      "photoUrl": "https://lh3.googleusercontent.com/a-/AOh14Gh2V6CcD-mvJZNcg0pcJrVX81wkXA0GyIYCyXlCCQ=s64",
      "userId": "10662023132727432683"
     },
     "user_tz": 420
    },
    "id": "Kflm3YIyIwK5",
    "outputId": "448797d1-457a-46ac-c777-9c98ebca94fc"
   },
   "outputs": [
    {
     "data": {
      "text/plain": [
       "Text(0.5, 1.0, 'Miscatagorized Nuclear Speckles')"
      ]
     },
     "execution_count": 89,
     "metadata": {
      "tags": []
     },
     "output_type": "execute_result"
    },
    {
     "data": {
      "image/png": "[encoded data removed]",
      "text/plain": [
       "<Figure size 576x432 with 1 Axes>"
      ]
     },
     "metadata": {
      "tags": []
     },
     "output_type": "display_data"
    }
   ],
   "source": [
    "fig, ax = plt.subplots(figsize=(8,6))\n",
    "sns.distplot(ar_4_7_wrong, kde=False, axlabel= \"Probability Predictions\", ax= ax)\n",
    "ax.set_ylabel('Count')\n",
    "ax.set_title(\"Miscatagorized Nuclear Speckles\")"
   ]
  },
  {
   "cell_type": "code",
   "execution_count": 0,
   "metadata": {
    "colab": {
     "base_uri": "https://localhost:8080/",
     "height": 427
    },
    "colab_type": "code",
    "executionInfo": {
     "elapsed": 1243,
     "status": "ok",
     "timestamp": 1592176942217,
     "user": {
      "displayName": "Luke L",
      "photoUrl": "https://lh3.googleusercontent.com/a-/AOh14Gh2V6CcD-mvJZNcg0pcJrVX81wkXA0GyIYCyXlCCQ=s64",
      "userId": "10662023132727432683"
     },
     "user_tz": 420
    },
    "id": "pz_QJTHLI61x",
    "outputId": "0925a56e-3101-49a9-8a47-964b6701ad92"
   },
   "outputs": [
    {
     "data": {
      "text/plain": [
       "Text(0.5, 1.0, 'Miscatagorized Golgi Apparatus')"
      ]
     },
     "execution_count": 90,
     "metadata": {
      "tags": []
     },
     "output_type": "execute_result"
    },
    {
     "data": {
      "image/png": "[encoded data removed]",
      "text/plain": [
       "<Figure size 576x432 with 1 Axes>"
      ]
     },
     "metadata": {
      "tags": []
     },
     "output_type": "display_data"
    }
   ],
   "source": [
    "fig, ax = plt.subplots(figsize=(8,6))\n",
    "sns.distplot(ar_7_4_wrong, kde=False, axlabel= \"Probability Predictions\", ax= ax)\n",
    "ax.set_ylabel('Count')\n",
    "ax.set_title(\"Miscatagorized Golgi Apparatus\")"
   ]
  },
  {
   "cell_type": "code",
   "execution_count": 0,
   "metadata": {
    "colab": {},
    "colab_type": "code",
    "id": "m2Lv4jmMJBdw"
   },
   "outputs": [],
   "source": []
  }
 ],
 "metadata": {
  "accelerator": "GPU",
  "colab": {
   "machine_shape": "hm",
   "name": "Kaggle_CNN_14Jun_1430.ipynb",
   "provenance": [
    {
     "file_id": "1Z6NcZVueBM0Jy2UNEYxa8gKwg5cyi0l4",
     "timestamp": 1592167609991
    },
    {
     "file_id": "1Ba7YCAOTHs3hR1bdFMBAxMiv4iF_HNhI",
     "timestamp": 1591886341629
    }
   ]
  },
  "kernelspec": {
   "display_name": "Python 3",
   "language": "python",
   "name": "python3"
  },
  "language_info": {
   "codemirror_mode": {
    "name": "ipython",
    "version": 3
   },
   "file_extension": ".py",
   "mimetype": "text/x-python",
   "name": "python",
   "nbconvert_exporter": "python",
   "pygments_lexer": "ipython3",
   "version": "3.7.6"
  }
 },
 "nbformat": 4,
 "nbformat_minor": 1
}
